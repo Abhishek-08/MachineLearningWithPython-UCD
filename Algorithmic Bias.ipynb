{
 "cells": [
  {
   "cell_type": "code",
   "execution_count": 174,
   "metadata": {},
   "outputs": [],
   "source": [
    "import pandas as pd\n",
    "import numpy as np\n",
    "from matplotlib import pyplot as plt\n",
    "\n",
    "from collections import Counter\n",
    "\n",
    "\n",
    "import sklearn\n",
    "from sklearn.preprocessing import StandardScaler,RobustScaler\n",
    "from sklearn.tree import DecisionTreeClassifier\n",
    "from sklearn.linear_model import LogisticRegression\n",
    "from sklearn.ensemble import GradientBoostingClassifier\n",
    "from sklearn.neighbors import KNeighborsClassifier\n",
    "from sklearn.model_selection import cross_validate, cross_val_score, StratifiedKFold\n",
    "from sklearn.feature_selection import SelectKBest, chi2, mutual_info_classif\n",
    "from sklearn.metrics import confusion_matrix, accuracy_score, precision_score, recall_score\n",
    "from sklearn.pipeline import Pipeline\n",
    "from sklearn.model_selection import train_test_split\n",
    "\n",
    "from imblearn.over_sampling import SMOTE, ADASYN\n",
    "from imblearn.combine import SMOTETomek\n",
    "from imblearn.ensemble import BalancedBaggingClassifier \n",
    "from imblearn.pipeline import Pipeline \n",
    "\n",
    "import os"
   ]
  },
  {
   "cell_type": "markdown",
   "metadata": {},
   "source": [
    "## Question 1"
   ]
  },
  {
   "cell_type": "code",
   "execution_count": 175,
   "metadata": {},
   "outputs": [
    {
     "data": {
      "text/plain": [
       "(306, 4)"
      ]
     },
     "execution_count": 175,
     "metadata": {},
     "output_type": "execute_result"
    }
   ],
   "source": [
    "surv = pd.read_csv('../survival.csv')\n",
    "surv_copy = surv.copy()\n",
    "surv.shape"
   ]
  },
  {
   "cell_type": "code",
   "execution_count": 176,
   "metadata": {},
   "outputs": [
    {
     "data": {
      "text/html": [
       "<div>\n",
       "<style scoped>\n",
       "    .dataframe tbody tr th:only-of-type {\n",
       "        vertical-align: middle;\n",
       "    }\n",
       "\n",
       "    .dataframe tbody tr th {\n",
       "        vertical-align: top;\n",
       "    }\n",
       "\n",
       "    .dataframe thead th {\n",
       "        text-align: right;\n",
       "    }\n",
       "</style>\n",
       "<table border=\"1\" class=\"dataframe\">\n",
       "  <thead>\n",
       "    <tr style=\"text-align: right;\">\n",
       "      <th></th>\n",
       "      <th>Age</th>\n",
       "      <th>Year</th>\n",
       "      <th>NNodes</th>\n",
       "      <th>Class</th>\n",
       "      <th>Survived</th>\n",
       "    </tr>\n",
       "  </thead>\n",
       "  <tbody>\n",
       "    <tr>\n",
       "      <th>0</th>\n",
       "      <td>30</td>\n",
       "      <td>64</td>\n",
       "      <td>1</td>\n",
       "      <td>1</td>\n",
       "      <td>GE5</td>\n",
       "    </tr>\n",
       "    <tr>\n",
       "      <th>1</th>\n",
       "      <td>30</td>\n",
       "      <td>62</td>\n",
       "      <td>3</td>\n",
       "      <td>1</td>\n",
       "      <td>GE5</td>\n",
       "    </tr>\n",
       "    <tr>\n",
       "      <th>2</th>\n",
       "      <td>30</td>\n",
       "      <td>65</td>\n",
       "      <td>0</td>\n",
       "      <td>1</td>\n",
       "      <td>GE5</td>\n",
       "    </tr>\n",
       "    <tr>\n",
       "      <th>3</th>\n",
       "      <td>31</td>\n",
       "      <td>59</td>\n",
       "      <td>2</td>\n",
       "      <td>1</td>\n",
       "      <td>GE5</td>\n",
       "    </tr>\n",
       "    <tr>\n",
       "      <th>4</th>\n",
       "      <td>31</td>\n",
       "      <td>65</td>\n",
       "      <td>4</td>\n",
       "      <td>1</td>\n",
       "      <td>GE5</td>\n",
       "    </tr>\n",
       "  </tbody>\n",
       "</table>\n",
       "</div>"
      ],
      "text/plain": [
       "   Age  Year  NNodes  Class Survived\n",
       "0   30    64       1      1      GE5\n",
       "1   30    62       3      1      GE5\n",
       "2   30    65       0      1      GE5\n",
       "3   31    59       2      1      GE5\n",
       "4   31    65       4      1      GE5"
      ]
     },
     "execution_count": 176,
     "metadata": {},
     "output_type": "execute_result"
    }
   ],
   "source": [
    "surv['Survived'] = 'GE5'\n",
    "surv.loc[surv['Class']==2,'Survived']='L5'\n",
    "surv.head()"
   ]
  },
  {
   "cell_type": "code",
   "execution_count": 177,
   "metadata": {},
   "outputs": [
    {
     "data": {
      "text/plain": [
       "GE5    225\n",
       "L5      81\n",
       "Name: Survived, dtype: int64"
      ]
     },
     "execution_count": 177,
     "metadata": {},
     "output_type": "execute_result"
    }
   ],
   "source": [
    "surv['Survived'].value_counts() "
   ]
  },
  {
   "cell_type": "code",
   "execution_count": 178,
   "metadata": {},
   "outputs": [
    {
     "data": {
      "text/plain": [
       "Age         0\n",
       "Year        0\n",
       "NNodes      0\n",
       "Class       0\n",
       "Survived    0\n",
       "dtype: int64"
      ]
     },
     "execution_count": 178,
     "metadata": {},
     "output_type": "execute_result"
    }
   ],
   "source": [
    "surv.isna().sum()"
   ]
  },
  {
   "cell_type": "code",
   "execution_count": 179,
   "metadata": {},
   "outputs": [],
   "source": [
    "class_field = surv.pop('Class')"
   ]
  },
  {
   "cell_type": "code",
   "execution_count": 180,
   "metadata": {},
   "outputs": [],
   "source": [
    "y = surv.iloc[:,-1:]\n",
    "X = surv.iloc[:,:-1]"
   ]
  },
  {
   "cell_type": "code",
   "execution_count": null,
   "metadata": {},
   "outputs": [],
   "source": []
  },
  {
   "cell_type": "markdown",
   "metadata": {},
   "source": [
    "## Baseline - Holdout evaluation"
   ]
  },
  {
   "cell_type": "code",
   "execution_count": 195,
   "metadata": {},
   "outputs": [
    {
     "name": "stdout",
     "output_type": "stream",
     "text": [
      "Model KNeighborsClassifier\n",
      "Accuracy:  0.67\n",
      "Minority class in test set : 0.28\n",
      "Predicted minority class : 0.28\n",
      "Bias rate : 1.00\n",
      " \n",
      "Model DecisionTreeClassifier\n",
      "Accuracy:  0.70\n",
      "Minority class in test set : 0.28\n",
      "Predicted minority class : 0.24\n",
      "Bias rate : 0.85\n",
      " \n",
      "Model LogisticRegression\n",
      "Accuracy:  0.70\n",
      "Minority class in test set : 0.28\n",
      "Predicted minority class : 0.30\n",
      "Bias rate : 1.08\n",
      " \n",
      "Model GradientBoostingClassifier\n",
      "Accuracy:  0.70\n",
      "Minority class in test set : 0.28\n",
      "Predicted minority class : 0.33\n",
      "Bias rate : 1.15\n",
      " \n"
     ]
    }
   ],
   "source": [
    "X_train, X_test, y_train, y_test = train_test_split(X, y, test_size = 0.3, random_state=42)\n",
    "sm = SMOTE(sampling_strategy='minority', random_state=10)\n",
    "\n",
    "bias_holdout = []\n",
    "accuracy_holdout = []\n",
    "# Fit the model to generate the data.\n",
    "oversampled_trainX, oversampled_trainY = sm.fit_sample(X_train, y_train)\n",
    "oversampled_train = pd.concat([pd.DataFrame(oversampled_trainX),pd.DataFrame(oversampled_trainY)], axis=1)\n",
    "oversampled_train.columns = surv_copy.columns\n",
    "kNN = KNeighborsClassifier(n_neighbors=4)\n",
    "dt = DecisionTreeClassifier(criterion='gini')\n",
    "logreg = LogisticRegression(random_state=1)\n",
    "gb = GradientBoostingClassifier(random_state=42)\n",
    "\n",
    "y_new = oversampled_train.pop('Class').values\n",
    "X_new = oversampled_train.values\n",
    "\n",
    "models = [kNN, dt, logreg, gb]\n",
    "for m in models:\n",
    "    y_pred = m.fit(X_new, y_new).predict(X_test)\n",
    "#     print(X_train.shape,X_test.shape)\n",
    "    print(\"Model\", type(m).__name__)\n",
    "    print('Accuracy:  %0.2f' % accuracy_score(y_pred, y_test))\n",
    "\n",
    "    pred_neg = Counter(y_pred)['L5']\n",
    "    test_neg = Counter(np.ravel(y_test))['L5']\n",
    "\n",
    "    print(\"Minority class in test set : %0.2f\" % (test_neg/len(y_test)))\n",
    "    print(\"Predicted minority class : %0.2f\" % (pred_neg/len(y_pred)))\n",
    "    bias_rate = pred_neg/test_neg\n",
    "    print(\"Bias rate : %0.2f\" % bias_rate )\n",
    "    print(\" \")\n",
    "    bias_holdout.append(bias_rate)\n",
    "    accuracy_holdout.append(accuracy_score(y_pred, y_test))\n"
   ]
  },
  {
   "cell_type": "code",
   "execution_count": null,
   "metadata": {},
   "outputs": [],
   "source": []
  },
  {
   "cell_type": "code",
   "execution_count": 182,
   "metadata": {},
   "outputs": [],
   "source": [
    "from sklearn.metrics import make_scorer\n",
    "def tp(y_true, y_pred): return confusion_matrix(y_true, y_pred)[1, 1]\n",
    "def tn(y_true, y_pred): return confusion_matrix(y_true, y_pred)[0, 0]\n",
    "def fp(y_true, y_pred): return confusion_matrix(y_true, y_pred)[0, 1]\n",
    "def fn(y_true, y_pred): return confusion_matrix(y_true, y_pred)[1, 0]\n",
    "scoring = {'tp' : make_scorer(tp), 'tn' : make_scorer(tn),\n",
    "           'fp' : make_scorer(fp), 'fn' : make_scorer(fn)}\n",
    "\n",
    "folds = 5\n",
    "v = 0 "
   ]
  },
  {
   "cell_type": "markdown",
   "metadata": {},
   "source": [
    "#### Cross val without SMOTE"
   ]
  },
  {
   "cell_type": "code",
   "execution_count": 197,
   "metadata": {},
   "outputs": [
    {
     "name": "stdout",
     "output_type": "stream",
     "text": [
      "Model KNeighborsClassifier Without SMOTE\n",
      "Bias 0.27\n",
      "Accuracy 0.75\n",
      " \n",
      "Model DecisionTreeClassifier Without SMOTE\n",
      "Bias 0.42\n",
      "Accuracy 0.64\n",
      " \n",
      "Model LogisticRegression Without SMOTE\n",
      "Bias 0.17\n",
      "Accuracy 0.75\n",
      " \n",
      "Model GradientBoostingClassifier Without SMOTE\n",
      "Bias 0.28\n",
      "Accuracy 0.64\n",
      " \n"
     ]
    }
   ],
   "source": [
    "bias_xval_without_smote = []\n",
    "accuracy_xval_without_smote = []\n",
    "\n",
    "kNN = KNeighborsClassifier(n_neighbors=6)  \n",
    "dt = DecisionTreeClassifier(criterion='entropy')\n",
    "logreg = LogisticRegression(random_state=42)\n",
    "gb = GradientBoostingClassifier(random_state=42)\n",
    "\n",
    "models = [kNN,dt,logreg,gb]\n",
    "for m in models:\n",
    "    pipe = Pipeline(steps=[\n",
    "    ('classifier', m)])\n",
    "    y1 = np.ravel(y)\n",
    "    skf = StratifiedKFold(n_splits=folds)\n",
    "    cv_results = cross_validate(pipe, X, y1, cv= skf,scoring=scoring, return_train_score=False, \n",
    "                                verbose = v, n_jobs = -1)\n",
    "    bias =0\n",
    "    accuracy = 0\n",
    "    for i in range(folds):\n",
    "        bias = bias + cv_results['test_tp'][i]/(cv_results['test_tp'][i]+cv_results['test_fn'][i])\n",
    "        accuracy = accuracy + (cv_results['test_tp'][i]+cv_results['test_tn'][i])/(len(X)/folds)\n",
    "    print(\"Model\", type(m).__name__, \"Without SMOTE\")\n",
    "    bias1 = np.round(bias/folds,2)\n",
    "    acc1 = np.round(accuracy/folds,2)\n",
    "    print(\"Bias\", bias1)\n",
    "    print(\"Accuracy\", acc1)\n",
    "    print(\" \")\n",
    "    bias_xval_without_smote.append(bias1)\n",
    "    accuracy_xval_without_smote.append(acc1)\n"
   ]
  },
  {
   "cell_type": "markdown",
   "metadata": {},
   "source": [
    "#### Cross val with SMOTE"
   ]
  },
  {
   "cell_type": "code",
   "execution_count": 237,
   "metadata": {},
   "outputs": [
    {
     "name": "stdout",
     "output_type": "stream",
     "text": [
      "Model KNeighborsClassifier With SMOTE\n",
      "Bias 0.41\n",
      "Accuracy 0.64\n",
      " \n",
      "Model DecisionTreeClassifier With SMOTE\n",
      "Bias 0.39\n",
      "Accuracy 0.65\n",
      " \n",
      "Model LogisticRegression With SMOTE\n",
      "Bias 0.53\n",
      "Accuracy 0.64\n",
      " \n",
      "Model GradientBoostingClassifier With SMOTE\n",
      "Bias 0.41\n",
      "Accuracy 0.63\n",
      " \n"
     ]
    }
   ],
   "source": [
    "bias_xval_with_smote = []\n",
    "accuracy_xval_with_smote = []\n",
    "\n",
    "for m in models:\n",
    "    pipe  = Pipeline(steps=[('sampling', SMOTE(sampling_strategy ='minority')),\n",
    "                            ('scaling', StandardScaler()),\n",
    "                            ('classifier', m)])\n",
    "    y1 = np.ravel(y)\n",
    "    cv_results = cross_validate(pipe, X, y1, cv= folds,scoring=scoring, return_train_score=False, \n",
    "                                verbose = v, n_jobs = -1)\n",
    "    bias =0\n",
    "    accuracy = 0\n",
    "    for i in range(folds):\n",
    "        bias = bias + cv_results['test_tp'][i]/(cv_results['test_tp'][i]+cv_results['test_fn'][i])\n",
    "        accuracy = accuracy + (cv_results['test_tp'][i]+cv_results['test_tn'][i])/(len(X)/folds)\n",
    "    print(\"Model\", type(m).__name__, \"With SMOTE\")\n",
    "    bias1 = np.round(bias/folds,2)\n",
    "    acc1 = np.round(accuracy/folds,2)\n",
    "    print(\"Bias\", bias1)\n",
    "    print(\"Accuracy\", acc1)\n",
    "    print(\" \")\n",
    "    bias_xval_with_smote.append(bias1)\n",
    "    accuracy_xval_with_smote.append(acc1)\n"
   ]
  },
  {
   "cell_type": "code",
   "execution_count": 238,
   "metadata": {},
   "outputs": [],
   "source": [
    "model_name = []\n",
    "for m in models:\n",
    "    model_name.append(type(m).__name__)"
   ]
  },
  {
   "cell_type": "code",
   "execution_count": 239,
   "metadata": {},
   "outputs": [],
   "source": [
    "scores = pd.DataFrame()\n",
    "scores['model'] = model_name\n",
    "scores['holdout_bias'] = bias_holdout\n",
    "scores['holdout_acc'] = accuracy_holdout\n",
    "scores['xval_without_SMOTE_bias'] = bias_xval_without_smote\n",
    "scores['xval_without_SMOTE_acc'] = accuracy_xval_without_smote\n",
    "scores['xval_with_SMOTE_bias'] = bias_xval_with_smote\n",
    "scores['xval_with_SMOTE_acc'] = accuracy_xval_with_smote"
   ]
  },
  {
   "cell_type": "code",
   "execution_count": 240,
   "metadata": {},
   "outputs": [
    {
     "data": {
      "text/html": [
       "<div>\n",
       "<style scoped>\n",
       "    .dataframe tbody tr th:only-of-type {\n",
       "        vertical-align: middle;\n",
       "    }\n",
       "\n",
       "    .dataframe tbody tr th {\n",
       "        vertical-align: top;\n",
       "    }\n",
       "\n",
       "    .dataframe thead th {\n",
       "        text-align: right;\n",
       "    }\n",
       "</style>\n",
       "<table border=\"1\" class=\"dataframe\">\n",
       "  <thead>\n",
       "    <tr style=\"text-align: right;\">\n",
       "      <th></th>\n",
       "      <th>holdout_bias</th>\n",
       "      <th>holdout_acc</th>\n",
       "      <th>xval_without_SMOTE_bias</th>\n",
       "      <th>xval_without_SMOTE_acc</th>\n",
       "      <th>xval_with_SMOTE_bias</th>\n",
       "      <th>xval_with_SMOTE_acc</th>\n",
       "    </tr>\n",
       "    <tr>\n",
       "      <th>model</th>\n",
       "      <th></th>\n",
       "      <th></th>\n",
       "      <th></th>\n",
       "      <th></th>\n",
       "      <th></th>\n",
       "      <th></th>\n",
       "    </tr>\n",
       "  </thead>\n",
       "  <tbody>\n",
       "    <tr>\n",
       "      <th>KNeighborsClassifier</th>\n",
       "      <td>1.000000</td>\n",
       "      <td>0.673913</td>\n",
       "      <td>0.27</td>\n",
       "      <td>0.75</td>\n",
       "      <td>0.41</td>\n",
       "      <td>0.64</td>\n",
       "    </tr>\n",
       "    <tr>\n",
       "      <th>DecisionTreeClassifier</th>\n",
       "      <td>0.846154</td>\n",
       "      <td>0.695652</td>\n",
       "      <td>0.42</td>\n",
       "      <td>0.64</td>\n",
       "      <td>0.39</td>\n",
       "      <td>0.65</td>\n",
       "    </tr>\n",
       "    <tr>\n",
       "      <th>LogisticRegression</th>\n",
       "      <td>1.076923</td>\n",
       "      <td>0.695652</td>\n",
       "      <td>0.17</td>\n",
       "      <td>0.75</td>\n",
       "      <td>0.53</td>\n",
       "      <td>0.64</td>\n",
       "    </tr>\n",
       "    <tr>\n",
       "      <th>GradientBoostingClassifier</th>\n",
       "      <td>1.153846</td>\n",
       "      <td>0.695652</td>\n",
       "      <td>0.28</td>\n",
       "      <td>0.64</td>\n",
       "      <td>0.41</td>\n",
       "      <td>0.63</td>\n",
       "    </tr>\n",
       "  </tbody>\n",
       "</table>\n",
       "</div>"
      ],
      "text/plain": [
       "                            holdout_bias  holdout_acc  \\\n",
       "model                                                   \n",
       "KNeighborsClassifier            1.000000     0.673913   \n",
       "DecisionTreeClassifier          0.846154     0.695652   \n",
       "LogisticRegression              1.076923     0.695652   \n",
       "GradientBoostingClassifier      1.153846     0.695652   \n",
       "\n",
       "                            xval_without_SMOTE_bias  xval_without_SMOTE_acc  \\\n",
       "model                                                                         \n",
       "KNeighborsClassifier                           0.27                    0.75   \n",
       "DecisionTreeClassifier                         0.42                    0.64   \n",
       "LogisticRegression                             0.17                    0.75   \n",
       "GradientBoostingClassifier                     0.28                    0.64   \n",
       "\n",
       "                            xval_with_SMOTE_bias  xval_with_SMOTE_acc  \n",
       "model                                                                  \n",
       "KNeighborsClassifier                        0.41                 0.64  \n",
       "DecisionTreeClassifier                      0.39                 0.65  \n",
       "LogisticRegression                          0.53                 0.64  \n",
       "GradientBoostingClassifier                  0.41                 0.63  "
      ]
     },
     "execution_count": 240,
     "metadata": {},
     "output_type": "execute_result"
    }
   ],
   "source": [
    "scores.set_index('model', inplace=True)\n",
    "scores.head()"
   ]
  },
  {
   "cell_type": "code",
   "execution_count": 241,
   "metadata": {},
   "outputs": [
    {
     "data": {
      "text/plain": [
       "Text(0.5, 1.0, 'Bias rates of different models for holdout/smote/without smote')"
      ]
     },
     "execution_count": 241,
     "metadata": {},
     "output_type": "execute_result"
    },
    {
     "data": {
      "image/png": "[encoded data removed]",
      "text/plain": [
       "<Figure size 720x432 with 1 Axes>"
      ]
     },
     "metadata": {
      "needs_background": "light"
     },
     "output_type": "display_data"
    }
   ],
   "source": [
    "scores[['holdout_bias','xval_without_SMOTE_bias','xval_with_SMOTE_bias']].plot.bar(rot=0, figsize=(10, 6))\n",
    "plt.ylabel('Bias rate')\n",
    "plt.title('Bias rates of different models for holdout/smote/without smote')"
   ]
  },
  {
   "cell_type": "markdown",
   "metadata": {},
   "source": [
    "The above graph represents the Bias rate for\n",
    "1. Holdout evaluation\n",
    "2. X Val evaluation without SMOTE\n",
    "3. X Val evaluation with SMOTE\n",
    "\n",
    "Even though X Val evaluation with SMOTE does not perform as well as holdout evaluation with respect to bias rate, it performs better tgan XVal evaluation without SMOTE for all the 4 models. \n",
    "\n",
    "Logistic Regression has the best bias rate of the 4 models (This has approximately 300% increase in bias when using SMOTE as opposed to not using SMOTE)"
   ]
  },
  {
   "cell_type": "markdown",
   "metadata": {},
   "source": [
    "Pipeline was used to perform SMOTE, scaling and subsequently fitting the classifier model.\n",
    "\n",
    "SMOTE was used for balancing the imbalanced class, StandardScaler was used for scaling and the 4 models were used in a loop after initialization"
   ]
  },
  {
   "cell_type": "markdown",
   "metadata": {},
   "source": [
    "XVal Evaluation with SMOTE is still biased because of the type of evaluation happening in cross validation. The data provided is also less to evaluate properly with cross validation.\n",
    "\n",
    "The results of crossval is generally considered more robust than holdout testing because the representation of the test data is split across the dataset in cross validation whereas in holdout evaluation it may be biased towards one class of data because of the test train split"
   ]
  },
  {
   "cell_type": "markdown",
   "metadata": {},
   "source": [
    "The bias for holdout is less because we are testing on the same data points everytime unlike cross validation.\n",
    "\n",
    "For example in the case of cross validation in some splits, there may be very less number of the minority class leading to more bias. This problem is only exemplified by the small size of the dataset"
   ]
  },
  {
   "cell_type": "code",
   "execution_count": 242,
   "metadata": {},
   "outputs": [
    {
     "data": {
      "text/plain": [
       "Text(0.5, 1.0, 'Accuracy of different models for holdout/smote/without smote')"
      ]
     },
     "execution_count": 242,
     "metadata": {},
     "output_type": "execute_result"
    },
    {
     "data": {
      "image/png": "[encoded data removed]",
      "text/plain": [
       "<Figure size 720x432 with 1 Axes>"
      ]
     },
     "metadata": {
      "needs_background": "light"
     },
     "output_type": "display_data"
    }
   ],
   "source": [
    "scores[['holdout_acc','xval_without_SMOTE_acc','xval_with_SMOTE_acc']].plot.bar(rot=0, figsize=(10, 6))\n",
    "plt.ylabel('Accuracy')\n",
    "plt.title('Accuracy of different models for holdout/smote/without smote')"
   ]
  },
  {
   "cell_type": "markdown",
   "metadata": {},
   "source": [
    "As we can see from the above graph, there is only a minor change in the accuracy with and without smote. But the accuracy has reduced a bit because of the use of an upsampling technique. This is expected because we are reduceing bias and there is a tradeoff between bias and accuracy"
   ]
  },
  {
   "cell_type": "markdown",
   "metadata": {},
   "source": [
    "### Question 2"
   ]
  },
  {
   "cell_type": "markdown",
   "metadata": {},
   "source": [
    "Let's read the data. The data was already in a train-test format"
   ]
  },
  {
   "cell_type": "code",
   "execution_count": 2,
   "metadata": {},
   "outputs": [],
   "source": [
    "heart_train = pd.read_csv('heart-train.csv')\n",
    "heart_test = pd.read_csv('heart-test.csv')"
   ]
  },
  {
   "cell_type": "code",
   "execution_count": 3,
   "metadata": {},
   "outputs": [
    {
     "data": {
      "text/plain": [
       "((199, 13), (100, 13))"
      ]
     },
     "execution_count": 3,
     "metadata": {},
     "output_type": "execute_result"
    }
   ],
   "source": [
    "heart_train.shape,heart_test.shape"
   ]
  },
  {
   "cell_type": "code",
   "execution_count": 4,
   "metadata": {},
   "outputs": [
    {
     "data": {
      "text/html": [
       "<div>\n",
       "<style scoped>\n",
       "    .dataframe tbody tr th:only-of-type {\n",
       "        vertical-align: middle;\n",
       "    }\n",
       "\n",
       "    .dataframe tbody tr th {\n",
       "        vertical-align: top;\n",
       "    }\n",
       "\n",
       "    .dataframe thead th {\n",
       "        text-align: right;\n",
       "    }\n",
       "</style>\n",
       "<table border=\"1\" class=\"dataframe\">\n",
       "  <thead>\n",
       "    <tr style=\"text-align: right;\">\n",
       "      <th></th>\n",
       "      <th>age</th>\n",
       "      <th>anaemia</th>\n",
       "      <th>creatinine_phosphokinase</th>\n",
       "      <th>diabetes</th>\n",
       "      <th>ejection_fraction</th>\n",
       "      <th>high_blood_pressure</th>\n",
       "      <th>platelets</th>\n",
       "      <th>serum_creatinine</th>\n",
       "      <th>serum_sodium</th>\n",
       "      <th>sex</th>\n",
       "      <th>smoking</th>\n",
       "      <th>time</th>\n",
       "      <th>DEATH_EVENT</th>\n",
       "    </tr>\n",
       "  </thead>\n",
       "  <tbody>\n",
       "    <tr>\n",
       "      <th>0</th>\n",
       "      <td>60.0</td>\n",
       "      <td>0</td>\n",
       "      <td>253</td>\n",
       "      <td>0</td>\n",
       "      <td>35</td>\n",
       "      <td>0</td>\n",
       "      <td>279000.00</td>\n",
       "      <td>1.70</td>\n",
       "      <td>140</td>\n",
       "      <td>1</td>\n",
       "      <td>0</td>\n",
       "      <td>250</td>\n",
       "      <td>0</td>\n",
       "    </tr>\n",
       "    <tr>\n",
       "      <th>1</th>\n",
       "      <td>40.0</td>\n",
       "      <td>1</td>\n",
       "      <td>129</td>\n",
       "      <td>0</td>\n",
       "      <td>35</td>\n",
       "      <td>0</td>\n",
       "      <td>255000.00</td>\n",
       "      <td>0.90</td>\n",
       "      <td>137</td>\n",
       "      <td>1</td>\n",
       "      <td>0</td>\n",
       "      <td>209</td>\n",
       "      <td>0</td>\n",
       "    </tr>\n",
       "    <tr>\n",
       "      <th>2</th>\n",
       "      <td>86.0</td>\n",
       "      <td>0</td>\n",
       "      <td>582</td>\n",
       "      <td>0</td>\n",
       "      <td>38</td>\n",
       "      <td>0</td>\n",
       "      <td>263358.03</td>\n",
       "      <td>1.83</td>\n",
       "      <td>134</td>\n",
       "      <td>0</td>\n",
       "      <td>0</td>\n",
       "      <td>95</td>\n",
       "      <td>1</td>\n",
       "    </tr>\n",
       "    <tr>\n",
       "      <th>3</th>\n",
       "      <td>45.0</td>\n",
       "      <td>0</td>\n",
       "      <td>582</td>\n",
       "      <td>0</td>\n",
       "      <td>35</td>\n",
       "      <td>0</td>\n",
       "      <td>385000.00</td>\n",
       "      <td>1.00</td>\n",
       "      <td>145</td>\n",
       "      <td>1</td>\n",
       "      <td>0</td>\n",
       "      <td>61</td>\n",
       "      <td>1</td>\n",
       "    </tr>\n",
       "    <tr>\n",
       "      <th>4</th>\n",
       "      <td>72.0</td>\n",
       "      <td>0</td>\n",
       "      <td>127</td>\n",
       "      <td>1</td>\n",
       "      <td>50</td>\n",
       "      <td>1</td>\n",
       "      <td>218000.00</td>\n",
       "      <td>1.00</td>\n",
       "      <td>134</td>\n",
       "      <td>1</td>\n",
       "      <td>0</td>\n",
       "      <td>33</td>\n",
       "      <td>0</td>\n",
       "    </tr>\n",
       "  </tbody>\n",
       "</table>\n",
       "</div>"
      ],
      "text/plain": [
       "    age  anaemia  creatinine_phosphokinase  diabetes  ejection_fraction  \\\n",
       "0  60.0        0                       253         0                 35   \n",
       "1  40.0        1                       129         0                 35   \n",
       "2  86.0        0                       582         0                 38   \n",
       "3  45.0        0                       582         0                 35   \n",
       "4  72.0        0                       127         1                 50   \n",
       "\n",
       "   high_blood_pressure  platelets  serum_creatinine  serum_sodium  sex  \\\n",
       "0                    0  279000.00              1.70           140    1   \n",
       "1                    0  255000.00              0.90           137    1   \n",
       "2                    0  263358.03              1.83           134    0   \n",
       "3                    0  385000.00              1.00           145    1   \n",
       "4                    1  218000.00              1.00           134    1   \n",
       "\n",
       "   smoking  time  DEATH_EVENT  \n",
       "0        0   250            0  \n",
       "1        0   209            0  \n",
       "2        0    95            1  \n",
       "3        0    61            1  \n",
       "4        0    33            0  "
      ]
     },
     "execution_count": 4,
     "metadata": {},
     "output_type": "execute_result"
    }
   ],
   "source": [
    "heart_train.head()"
   ]
  },
  {
   "cell_type": "markdown",
   "metadata": {},
   "source": [
    "There are no null values in the dataset. So no imputation is required"
   ]
  },
  {
   "cell_type": "code",
   "execution_count": 5,
   "metadata": {},
   "outputs": [
    {
     "data": {
      "text/plain": [
       "age                         0\n",
       "anaemia                     0\n",
       "creatinine_phosphokinase    0\n",
       "diabetes                    0\n",
       "ejection_fraction           0\n",
       "high_blood_pressure         0\n",
       "platelets                   0\n",
       "serum_creatinine            0\n",
       "serum_sodium                0\n",
       "sex                         0\n",
       "smoking                     0\n",
       "time                        0\n",
       "DEATH_EVENT                 0\n",
       "dtype: int64"
      ]
     },
     "execution_count": 5,
     "metadata": {},
     "output_type": "execute_result"
    }
   ],
   "source": [
    "heart_train.isna().sum()"
   ]
  },
  {
   "cell_type": "markdown",
   "metadata": {},
   "source": [
    "Let's look at how the train data is distributed.\n",
    "\n",
    "1 - Death\n",
    "\n",
    "0 - No death"
   ]
  },
  {
   "cell_type": "code",
   "execution_count": 6,
   "metadata": {},
   "outputs": [
    {
     "data": {
      "text/plain": [
       "Text(0.5, 1.0, 'Distribution of the y variable on the train set')"
      ]
     },
     "execution_count": 6,
     "metadata": {},
     "output_type": "execute_result"
    },
    {
     "data": {
      "image/png": "[encoded data removed]",
      "text/plain": [
       "<Figure size 432x288 with 1 Axes>"
      ]
     },
     "metadata": {
      "needs_background": "light"
     },
     "output_type": "display_data"
    }
   ],
   "source": [
    "heart_train['DEATH_EVENT'].value_counts().sort_values().plot(kind = 'bar')\n",
    "plt.xlabel('Death Event')\n",
    "plt.ylabel('Count')\n",
    "plt.title('Distribution of the y variable on the train set')"
   ]
  },
  {
   "cell_type": "code",
   "execution_count": 7,
   "metadata": {},
   "outputs": [
    {
     "data": {
      "text/plain": [
       "Text(0.5, 1.0, 'Distribution of the y variable on the test set')"
      ]
     },
     "execution_count": 7,
     "metadata": {},
     "output_type": "execute_result"
    },
    {
     "data": {
      "image/png": "[encoded data removed]",
      "text/plain": [
       "<Figure size 432x288 with 1 Axes>"
      ]
     },
     "metadata": {
      "needs_background": "light"
     },
     "output_type": "display_data"
    }
   ],
   "source": [
    "heart_test['DEATH_EVENT'].value_counts().sort_values().plot(kind = 'bar')\n",
    "plt.xlabel('Death Event')\n",
    "plt.ylabel('Count')\n",
    "plt.title('Distribution of the y variable on the test set')"
   ]
  },
  {
   "cell_type": "code",
   "execution_count": 8,
   "metadata": {},
   "outputs": [],
   "source": [
    "## Splitting X variable and y variable in both test and train set\n",
    "train_y = heart_train.iloc[:,-1:]\n",
    "train_X = heart_train.iloc[:,:-1]\n",
    "\n",
    "test_y = heart_test.iloc[:,-1:]\n",
    "test_X = heart_test.iloc[:,:-1]"
   ]
  },
  {
   "cell_type": "markdown",
   "metadata": {},
   "source": [
    "Let's visualise the data in the train set to see how it is distributed"
   ]
  },
  {
   "cell_type": "code",
   "execution_count": 9,
   "metadata": {},
   "outputs": [
    {
     "data": {
      "text/html": [
       "<div>\n",
       "<style scoped>\n",
       "    .dataframe tbody tr th:only-of-type {\n",
       "        vertical-align: middle;\n",
       "    }\n",
       "\n",
       "    .dataframe tbody tr th {\n",
       "        vertical-align: top;\n",
       "    }\n",
       "\n",
       "    .dataframe thead th {\n",
       "        text-align: right;\n",
       "    }\n",
       "</style>\n",
       "<table border=\"1\" class=\"dataframe\">\n",
       "  <thead>\n",
       "    <tr style=\"text-align: right;\">\n",
       "      <th></th>\n",
       "      <th>age</th>\n",
       "      <th>anaemia</th>\n",
       "      <th>creatinine_phosphokinase</th>\n",
       "      <th>diabetes</th>\n",
       "      <th>ejection_fraction</th>\n",
       "      <th>high_blood_pressure</th>\n",
       "      <th>platelets</th>\n",
       "      <th>serum_creatinine</th>\n",
       "      <th>serum_sodium</th>\n",
       "      <th>sex</th>\n",
       "      <th>smoking</th>\n",
       "      <th>time</th>\n",
       "    </tr>\n",
       "  </thead>\n",
       "  <tbody>\n",
       "    <tr>\n",
       "      <th>0</th>\n",
       "      <td>60.0</td>\n",
       "      <td>0</td>\n",
       "      <td>253</td>\n",
       "      <td>0</td>\n",
       "      <td>35</td>\n",
       "      <td>0</td>\n",
       "      <td>279000.00</td>\n",
       "      <td>1.70</td>\n",
       "      <td>140</td>\n",
       "      <td>1</td>\n",
       "      <td>0</td>\n",
       "      <td>250</td>\n",
       "    </tr>\n",
       "    <tr>\n",
       "      <th>1</th>\n",
       "      <td>40.0</td>\n",
       "      <td>1</td>\n",
       "      <td>129</td>\n",
       "      <td>0</td>\n",
       "      <td>35</td>\n",
       "      <td>0</td>\n",
       "      <td>255000.00</td>\n",
       "      <td>0.90</td>\n",
       "      <td>137</td>\n",
       "      <td>1</td>\n",
       "      <td>0</td>\n",
       "      <td>209</td>\n",
       "    </tr>\n",
       "    <tr>\n",
       "      <th>2</th>\n",
       "      <td>86.0</td>\n",
       "      <td>0</td>\n",
       "      <td>582</td>\n",
       "      <td>0</td>\n",
       "      <td>38</td>\n",
       "      <td>0</td>\n",
       "      <td>263358.03</td>\n",
       "      <td>1.83</td>\n",
       "      <td>134</td>\n",
       "      <td>0</td>\n",
       "      <td>0</td>\n",
       "      <td>95</td>\n",
       "    </tr>\n",
       "    <tr>\n",
       "      <th>3</th>\n",
       "      <td>45.0</td>\n",
       "      <td>0</td>\n",
       "      <td>582</td>\n",
       "      <td>0</td>\n",
       "      <td>35</td>\n",
       "      <td>0</td>\n",
       "      <td>385000.00</td>\n",
       "      <td>1.00</td>\n",
       "      <td>145</td>\n",
       "      <td>1</td>\n",
       "      <td>0</td>\n",
       "      <td>61</td>\n",
       "    </tr>\n",
       "    <tr>\n",
       "      <th>4</th>\n",
       "      <td>72.0</td>\n",
       "      <td>0</td>\n",
       "      <td>127</td>\n",
       "      <td>1</td>\n",
       "      <td>50</td>\n",
       "      <td>1</td>\n",
       "      <td>218000.00</td>\n",
       "      <td>1.00</td>\n",
       "      <td>134</td>\n",
       "      <td>1</td>\n",
       "      <td>0</td>\n",
       "      <td>33</td>\n",
       "    </tr>\n",
       "  </tbody>\n",
       "</table>\n",
       "</div>"
      ],
      "text/plain": [
       "    age  anaemia  creatinine_phosphokinase  diabetes  ejection_fraction  \\\n",
       "0  60.0        0                       253         0                 35   \n",
       "1  40.0        1                       129         0                 35   \n",
       "2  86.0        0                       582         0                 38   \n",
       "3  45.0        0                       582         0                 35   \n",
       "4  72.0        0                       127         1                 50   \n",
       "\n",
       "   high_blood_pressure  platelets  serum_creatinine  serum_sodium  sex  \\\n",
       "0                    0  279000.00              1.70           140    1   \n",
       "1                    0  255000.00              0.90           137    1   \n",
       "2                    0  263358.03              1.83           134    0   \n",
       "3                    0  385000.00              1.00           145    1   \n",
       "4                    1  218000.00              1.00           134    1   \n",
       "\n",
       "   smoking  time  \n",
       "0        0   250  \n",
       "1        0   209  \n",
       "2        0    95  \n",
       "3        0    61  \n",
       "4        0    33  "
      ]
     },
     "execution_count": 9,
     "metadata": {},
     "output_type": "execute_result"
    }
   ],
   "source": [
    "train_X.head()"
   ]
  },
  {
   "cell_type": "markdown",
   "metadata": {},
   "source": [
    "Most people are in the age range 55-65 \n",
    "\n",
    "This is mainly because we are dealing with a dataset of heart disease and people around this age tend to be affected by the disease\n"
   ]
  },
  {
   "cell_type": "code",
   "execution_count": 10,
   "metadata": {},
   "outputs": [
    {
     "data": {
      "text/plain": [
       "<matplotlib.axes._subplots.AxesSubplot at 0x1d00f341520>"
      ]
     },
     "execution_count": 10,
     "metadata": {},
     "output_type": "execute_result"
    },
    {
     "data": {
      "image/png": "[encoded data removed]",
      "text/plain": [
       "<Figure size 432x288 with 1 Axes>"
      ]
     },
     "metadata": {
      "needs_background": "light"
     },
     "output_type": "display_data"
    }
   ],
   "source": [
    "train_X['age'].hist()"
   ]
  },
  {
   "cell_type": "code",
   "execution_count": 11,
   "metadata": {},
   "outputs": [
    {
     "data": {
      "text/plain": [
       "<matplotlib.axes._subplots.AxesSubplot at 0x1d00f3c8be0>"
      ]
     },
     "execution_count": 11,
     "metadata": {},
     "output_type": "execute_result"
    },
    {
     "data": {
      "image/png": "[encoded data removed]",
      "text/plain": [
       "<Figure size 432x288 with 1 Axes>"
      ]
     },
     "metadata": {},
     "output_type": "display_data"
    }
   ],
   "source": [
    "# Distribution of anaemia\n",
    "train_X['anaemia'].value_counts().plot(kind='pie')"
   ]
  },
  {
   "cell_type": "markdown",
   "metadata": {},
   "source": [
    "Ejection fraction distribution. Looking at the distribution, it is concentrated around 35-40 and might have an impact on the result\n"
   ]
  },
  {
   "cell_type": "code",
   "execution_count": 12,
   "metadata": {},
   "outputs": [
    {
     "data": {
      "text/plain": [
       "<matplotlib.axes._subplots.AxesSubplot at 0x1d00f401cd0>"
      ]
     },
     "execution_count": 12,
     "metadata": {},
     "output_type": "execute_result"
    },
    {
     "data": {
      "image/png": "[encoded data removed]",
      "text/plain": [
       "<Figure size 432x288 with 1 Axes>"
      ]
     },
     "metadata": {
      "needs_background": "light"
     },
     "output_type": "display_data"
    }
   ],
   "source": [
    "train_X['ejection_fraction'].hist()"
   ]
  },
  {
   "cell_type": "code",
   "execution_count": 13,
   "metadata": {},
   "outputs": [
    {
     "data": {
      "text/plain": [
       "<matplotlib.axes._subplots.AxesSubplot at 0x1d00f483ca0>"
      ]
     },
     "execution_count": 13,
     "metadata": {},
     "output_type": "execute_result"
    },
    {
     "data": {
      "image/png": "[encoded data removed]",
      "text/plain": [
       "<Figure size 432x288 with 1 Axes>"
      ]
     },
     "metadata": {
      "needs_background": "light"
     },
     "output_type": "display_data"
    }
   ],
   "source": [
    "train_X['time'].hist()"
   ]
  },
  {
   "cell_type": "code",
   "execution_count": 14,
   "metadata": {},
   "outputs": [
    {
     "data": {
      "text/plain": [
       "<matplotlib.axes._subplots.AxesSubplot at 0x1d00f4b6e50>"
      ]
     },
     "execution_count": 14,
     "metadata": {},
     "output_type": "execute_result"
    },
    {
     "data": {
      "image/png": "[encoded data removed]",
      "text/plain": [
       "<Figure size 432x288 with 1 Axes>"
      ]
     },
     "metadata": {
      "needs_background": "light"
     },
     "output_type": "display_data"
    }
   ],
   "source": [
    "train_X['serum_creatinine'].hist()"
   ]
  },
  {
   "cell_type": "code",
   "execution_count": 15,
   "metadata": {},
   "outputs": [
    {
     "data": {
      "text/plain": [
       "<matplotlib.axes._subplots.AxesSubplot at 0x1d00f5518e0>"
      ]
     },
     "execution_count": 15,
     "metadata": {},
     "output_type": "execute_result"
    },
    {
     "data": {
      "image/png": "[encoded data removed]",
      "text/plain": [
       "<Figure size 432x288 with 1 Axes>"
      ]
     },
     "metadata": {
      "needs_background": "light"
     },
     "output_type": "display_data"
    }
   ],
   "source": [
    "# Platelets is normally distributed\n",
    "train_X['platelets'].hist()"
   ]
  },
  {
   "cell_type": "code",
   "execution_count": 16,
   "metadata": {},
   "outputs": [
    {
     "data": {
      "text/plain": [
       "<matplotlib.axes._subplots.AxesSubplot at 0x1d00f8672e0>"
      ]
     },
     "execution_count": 16,
     "metadata": {},
     "output_type": "execute_result"
    },
    {
     "data": {
      "image/png": "[encoded data removed]",
      "text/plain": [
       "<Figure size 432x288 with 2 Axes>"
      ]
     },
     "metadata": {
      "needs_background": "light"
     },
     "output_type": "display_data"
    }
   ],
   "source": [
    "# The correlation plot does not contain a lot of info because it is right out of the box wihtout a lot of feature engineering\n",
    "# Serum_creatinine has the highest corr for the variable death_event\n",
    "import seaborn as sns\n",
    "corr = heart_train.corr()\n",
    "sns.heatmap(corr, \n",
    "        xticklabels=corr.columns,\n",
    "        yticklabels=corr.columns)"
   ]
  },
  {
   "cell_type": "markdown",
   "metadata": {},
   "source": [
    "Scaling is not required because the model that we are using is a Boosted tree method (GradientBoost) and scaling doesn't make sense for decision trees and ensemble trees"
   ]
  },
  {
   "cell_type": "code",
   "execution_count": 17,
   "metadata": {},
   "outputs": [],
   "source": [
    "# scaler = StandardScaler()\n",
    "# scaler.fit(train_X)\n",
    "# scaled_train_X = scaler.transform(train_X)"
   ]
  },
  {
   "cell_type": "markdown",
   "metadata": {},
   "source": [
    "#### Baseline results"
   ]
  },
  {
   "cell_type": "code",
   "execution_count": 18,
   "metadata": {},
   "outputs": [],
   "source": [
    "accu = []\n",
    "preci = []\n",
    "reca = []\n",
    "dataframe = pd.DataFrame()\n",
    "gbc = GradientBoostingClassifier(random_state=0, n_estimators = 200, learning_rate = 0.01, min_samples_split = 3)\n",
    "for i in range(2,11):\n",
    "    cv_results = cross_validate(gbc, train_X, np.ravel(train_y), cv=i, scoring=['accuracy','recall','precision'])\n",
    "    accu.append(np.round(cv_results['test_accuracy'].mean(),2))\n",
    "    preci.append(np.round(cv_results['test_precision'].mean(),2))\n",
    "    reca.append(np.round(cv_results['test_recall'].mean(),2))\n",
    "\n",
    "dataframe['folds'] = range(2,11)\n",
    "dataframe['recall'] = reca\n",
    "dataframe['precision'] = preci\n",
    "dataframe['accuracy'] = accu    \n",
    "dataframe['F1-Score'] = np.round((2*dataframe['precision']*dataframe['recall'])/(dataframe['precision']+dataframe['recall']),2)\n",
    "    "
   ]
  },
  {
   "cell_type": "code",
   "execution_count": 19,
   "metadata": {},
   "outputs": [
    {
     "data": {
      "text/html": [
       "<div>\n",
       "<style scoped>\n",
       "    .dataframe tbody tr th:only-of-type {\n",
       "        vertical-align: middle;\n",
       "    }\n",
       "\n",
       "    .dataframe tbody tr th {\n",
       "        vertical-align: top;\n",
       "    }\n",
       "\n",
       "    .dataframe thead th {\n",
       "        text-align: right;\n",
       "    }\n",
       "</style>\n",
       "<table border=\"1\" class=\"dataframe\">\n",
       "  <thead>\n",
       "    <tr style=\"text-align: right;\">\n",
       "      <th></th>\n",
       "      <th>folds</th>\n",
       "      <th>recall</th>\n",
       "      <th>precision</th>\n",
       "      <th>accuracy</th>\n",
       "      <th>F1-Score</th>\n",
       "    </tr>\n",
       "  </thead>\n",
       "  <tbody>\n",
       "    <tr>\n",
       "      <th>0</th>\n",
       "      <td>2</td>\n",
       "      <td>0.62</td>\n",
       "      <td>0.73</td>\n",
       "      <td>0.80</td>\n",
       "      <td>0.67</td>\n",
       "    </tr>\n",
       "    <tr>\n",
       "      <th>1</th>\n",
       "      <td>3</td>\n",
       "      <td>0.61</td>\n",
       "      <td>0.76</td>\n",
       "      <td>0.81</td>\n",
       "      <td>0.68</td>\n",
       "    </tr>\n",
       "    <tr>\n",
       "      <th>2</th>\n",
       "      <td>4</td>\n",
       "      <td>0.66</td>\n",
       "      <td>0.74</td>\n",
       "      <td>0.81</td>\n",
       "      <td>0.70</td>\n",
       "    </tr>\n",
       "    <tr>\n",
       "      <th>3</th>\n",
       "      <td>5</td>\n",
       "      <td>0.59</td>\n",
       "      <td>0.71</td>\n",
       "      <td>0.78</td>\n",
       "      <td>0.64</td>\n",
       "    </tr>\n",
       "    <tr>\n",
       "      <th>4</th>\n",
       "      <td>6</td>\n",
       "      <td>0.64</td>\n",
       "      <td>0.74</td>\n",
       "      <td>0.80</td>\n",
       "      <td>0.69</td>\n",
       "    </tr>\n",
       "    <tr>\n",
       "      <th>5</th>\n",
       "      <td>7</td>\n",
       "      <td>0.62</td>\n",
       "      <td>0.71</td>\n",
       "      <td>0.80</td>\n",
       "      <td>0.66</td>\n",
       "    </tr>\n",
       "    <tr>\n",
       "      <th>6</th>\n",
       "      <td>8</td>\n",
       "      <td>0.69</td>\n",
       "      <td>0.72</td>\n",
       "      <td>0.81</td>\n",
       "      <td>0.70</td>\n",
       "    </tr>\n",
       "    <tr>\n",
       "      <th>7</th>\n",
       "      <td>9</td>\n",
       "      <td>0.63</td>\n",
       "      <td>0.72</td>\n",
       "      <td>0.80</td>\n",
       "      <td>0.67</td>\n",
       "    </tr>\n",
       "    <tr>\n",
       "      <th>8</th>\n",
       "      <td>10</td>\n",
       "      <td>0.63</td>\n",
       "      <td>0.74</td>\n",
       "      <td>0.80</td>\n",
       "      <td>0.68</td>\n",
       "    </tr>\n",
       "  </tbody>\n",
       "</table>\n",
       "</div>"
      ],
      "text/plain": [
       "   folds  recall  precision  accuracy  F1-Score\n",
       "0      2    0.62       0.73      0.80      0.67\n",
       "1      3    0.61       0.76      0.81      0.68\n",
       "2      4    0.66       0.74      0.81      0.70\n",
       "3      5    0.59       0.71      0.78      0.64\n",
       "4      6    0.64       0.74      0.80      0.69\n",
       "5      7    0.62       0.71      0.80      0.66\n",
       "6      8    0.69       0.72      0.81      0.70\n",
       "7      9    0.63       0.72      0.80      0.67\n",
       "8     10    0.63       0.74      0.80      0.68"
      ]
     },
     "execution_count": 19,
     "metadata": {},
     "output_type": "execute_result"
    }
   ],
   "source": [
    "dataframe"
   ]
  },
  {
   "cell_type": "markdown",
   "metadata": {},
   "source": [
    "From the above dataframe we can interpret that folds = 8 has the best combination of accuracy and F1-score"
   ]
  },
  {
   "cell_type": "code",
   "execution_count": 20,
   "metadata": {},
   "outputs": [],
   "source": [
    "folds = 8\n",
    "gbc = GradientBoostingClassifier(random_state=0, n_estimators = 200, learning_rate = 0.01, min_samples_split = 3)\n",
    "\n",
    "cv_results = cross_validate(gbc, train_X, np.ravel(train_y), cv=folds, scoring=['accuracy','recall','precision'])\n",
    "# cv_results"
   ]
  },
  {
   "cell_type": "markdown",
   "metadata": {},
   "source": [
    "Cross validation was performed on the train set with 8 folds"
   ]
  },
  {
   "cell_type": "code",
   "execution_count": 21,
   "metadata": {},
   "outputs": [
    {
     "name": "stdout",
     "output_type": "stream",
     "text": [
      "Baseline accuracy using 8 fold X-Val is 0.81\n",
      "Baseline precision using 8 fold X-Val is 0.72\n",
      "Baseline recall using 8 fold X-Val is 0.69\n"
     ]
    }
   ],
   "source": [
    "print(\"Baseline accuracy using 8 fold X-Val is\", np.round(cv_results['test_accuracy'].mean(),2))\n",
    "print(\"Baseline precision using 8 fold X-Val is\", np.round(cv_results['test_precision'].mean(),2))\n",
    "print(\"Baseline recall using 8 fold X-Val is\", np.round(cv_results['test_recall'].mean(),2))"
   ]
  },
  {
   "cell_type": "markdown",
   "metadata": {},
   "source": [
    "Testing on the test set using holdout testing. Gradient boost model was trained on the provided train set"
   ]
  },
  {
   "cell_type": "code",
   "execution_count": 22,
   "metadata": {},
   "outputs": [
    {
     "name": "stdout",
     "output_type": "stream",
     "text": [
      "Baseline accuracy using holdout testing is 0.85\n",
      "Baseline precision using holdout testing is 0.77\n",
      "Baseline recall using holdout testing is 0.75\n"
     ]
    }
   ],
   "source": [
    "gbc.fit(train_X, np.ravel(train_y))\n",
    "pred_y = gbc.predict(test_X)\n",
    "print(\"Baseline accuracy using holdout testing is\", accuracy_score(test_y, pred_y))\n",
    "print(\"Baseline precision using holdout testing is\", np.round(precision_score(test_y, pred_y),2))\n",
    "print(\"Baseline recall using holdout testing is\", np.round(recall_score(test_y, pred_y),2))"
   ]
  },
  {
   "cell_type": "code",
   "execution_count": null,
   "metadata": {},
   "outputs": [],
   "source": []
  },
  {
   "cell_type": "markdown",
   "metadata": {},
   "source": [
    "### Using K-Best to select best features"
   ]
  },
  {
   "cell_type": "markdown",
   "metadata": {},
   "source": [
    "Defining 3 functions. They were picked and then further modified from the provided notebook tutorials from the ML class"
   ]
  },
  {
   "cell_type": "code",
   "execution_count": 25,
   "metadata": {},
   "outputs": [],
   "source": [
    "def calculate_ig_gain(data_X, data_y):\n",
    "    '''\n",
    "    Calculate Information gain given X and y of the train data\n",
    "    Input - X and y variables of train data\n",
    "    Output - Dataframe with with IG gain values sorted per feature\n",
    "    '''\n",
    "    mutual_info = dict()\n",
    "    i_scores = mutual_info_classif(data_X, np.ravel(data_y))\n",
    "\n",
    "    for i,j in zip(data_X.columns,i_scores):\n",
    "        mutual_info[i]=j\n",
    "\n",
    "    df = pd.DataFrame.from_dict(mutual_info,orient='index',columns=['I-Gain'])\n",
    "    df.sort_values(by=['I-Gain'],ascending=False,inplace=True)\n",
    "    return df\n",
    "\n",
    "def kbest_select(df, data_train_X,data_train_y, split_type, data_test_X, data_test_y):\n",
    "    '''\n",
    "    Test various values of k in k-best for feature selection. We use mutual_info_classif to rank the features.\n",
    "    The function has been split for a XVal method and a holdout method because we calculate scores differently in the two methods. \n",
    "    The test data will also be different in xval and holdout\n",
    "    \n",
    "    Input :\n",
    "    df - Dataframe from calculate_ig_gain function\n",
    "    data_train_X - X variable in training data\n",
    "    data_train_y - y variable in training data\n",
    "    split_type - xval for cross validation and holdout for holdout testing\n",
    "    data_test_X - X varaible in testing data for holdout testing\n",
    "    data_test_y - y variable in testing data for holdout testing\n",
    "    \n",
    "    Output :\n",
    "    Dataframe with IG-value and various calculated scores\n",
    "    \n",
    "    '''\n",
    "    acc_scores = []\n",
    "    recall_scores = []\n",
    "    precision_scores = []\n",
    "    for kk in range(1, data_train_X.shape[1]+1):\n",
    "        train_kbest = SelectKBest(mutual_info_classif, score_func  ='mutual_info_classif', k = kk).fit(data_train_X, np.ravel(data_train_y))\n",
    "        \n",
    "        if split_type==\"xval\":\n",
    "            new_train_X = train_kbest.transform(data_train_X)\n",
    "            cv_results1 = cross_validate(gbc, new_train_X, np.ravel(train_y), cv=5, scoring=['accuracy','recall','precision'])\n",
    "            acc = cv_results1['test_accuracy'].mean()\n",
    "            rec = cv_results1['test_recall'].mean()\n",
    "            prec = cv_results1['test_precision'].mean()\n",
    "        \n",
    "        elif split_type==\"holdout\":\n",
    "            new_train_X = train_kbest.transform(data_train_X)\n",
    "            new_test_X = train_kbest.transform(data_test_X)\n",
    "            gbc.fit(new_train_X, np.ravel(data_train_y))\n",
    "            pred_y = gbc.predict(new_test_X)\n",
    "\n",
    "            acc = accuracy_score(data_test_y, pred_y)\n",
    "            rec = recall_score(data_test_y, pred_y)\n",
    "            prec = precision_score(data_test_y, pred_y)\n",
    "            \n",
    "        acc_scores.append(acc)\n",
    "        recall_scores.append(rec)\n",
    "        precision_scores.append(prec)\n",
    "    df['Accuracy'] = acc_scores\n",
    "    df['Recall'] = recall_scores\n",
    "    df['Precision'] = precision_scores\n",
    "    df['F1-Score'] = 2*(df['Precision']*df['Recall'])/(df['Precision']+df['Recall'])\n",
    "    return df\n",
    "\n",
    "def plot_feature_metrics(data, metric_to_plot):\n",
    "    '''\n",
    "    Plot a bar graph with a superimposed line graph.\n",
    "    Bar graph - IG gain\n",
    "    Line graph - Metric\n",
    "    \n",
    "    Input :\n",
    "    data - output dataframe from the function kbest_select\n",
    "    metric_to_plot - Accuracy/Precision/Recall/F1-score to plot a line graph\n",
    "    \n",
    "    Output :\n",
    "    Matplotlib plot\n",
    "    '''\n",
    "    n = len(data.index)\n",
    "    rr = range(1,n)\n",
    "    fig, ax = plt.subplots()\n",
    "    ax2 = ax.twinx()\n",
    "\n",
    "    ax.bar(data.index, data[\"I-Gain\"], label='I-Gain',width=.4, color ='green')\n",
    "    ax2.plot(data.index, data[metric_to_plot], color='blue', label=metric_to_plot)\n",
    "\n",
    "    ax.set_xticklabels(list(data.index), rotation = 90)\n",
    "    ax.set_xlabel('Features')\n",
    "    ax.set_ylabel('I-Gain')\n",
    "    ax2.set_ylabel(metric_to_plot)\n",
    "    ax.legend()\n",
    "\n",
    "    plt.show()"
   ]
  },
  {
   "cell_type": "markdown",
   "metadata": {},
   "source": [
    "Let's calculate IG-gain and various metrics using cross validation"
   ]
  },
  {
   "cell_type": "code",
   "execution_count": 29,
   "metadata": {},
   "outputs": [],
   "source": [
    "df_xval = calculate_ig_gain(train_X,train_y)\n",
    "df_xval1 = kbest_select(df_xval,train_X,train_y, \"xval\", test_X, test_y)"
   ]
  },
  {
   "cell_type": "code",
   "execution_count": 30,
   "metadata": {},
   "outputs": [
    {
     "data": {
      "text/html": [
       "<div>\n",
       "<style scoped>\n",
       "    .dataframe tbody tr th:only-of-type {\n",
       "        vertical-align: middle;\n",
       "    }\n",
       "\n",
       "    .dataframe tbody tr th {\n",
       "        vertical-align: top;\n",
       "    }\n",
       "\n",
       "    .dataframe thead th {\n",
       "        text-align: right;\n",
       "    }\n",
       "</style>\n",
       "<table border=\"1\" class=\"dataframe\">\n",
       "  <thead>\n",
       "    <tr style=\"text-align: right;\">\n",
       "      <th></th>\n",
       "      <th>I-Gain</th>\n",
       "      <th>Accuracy</th>\n",
       "      <th>Recall</th>\n",
       "      <th>Precision</th>\n",
       "      <th>F1-Score</th>\n",
       "    </tr>\n",
       "  </thead>\n",
       "  <tbody>\n",
       "    <tr>\n",
       "      <th>time</th>\n",
       "      <td>0.222937</td>\n",
       "      <td>0.804487</td>\n",
       "      <td>0.534615</td>\n",
       "      <td>0.814524</td>\n",
       "      <td>0.645533</td>\n",
       "    </tr>\n",
       "    <tr>\n",
       "      <th>serum_creatinine</th>\n",
       "      <td>0.115425</td>\n",
       "      <td>0.784615</td>\n",
       "      <td>0.582051</td>\n",
       "      <td>0.699675</td>\n",
       "      <td>0.635466</td>\n",
       "    </tr>\n",
       "    <tr>\n",
       "      <th>ejection_fraction</th>\n",
       "      <td>0.099040</td>\n",
       "      <td>0.814615</td>\n",
       "      <td>0.658974</td>\n",
       "      <td>0.734895</td>\n",
       "      <td>0.694867</td>\n",
       "    </tr>\n",
       "    <tr>\n",
       "      <th>high_blood_pressure</th>\n",
       "      <td>0.029812</td>\n",
       "      <td>0.799359</td>\n",
       "      <td>0.641026</td>\n",
       "      <td>0.720278</td>\n",
       "      <td>0.678345</td>\n",
       "    </tr>\n",
       "    <tr>\n",
       "      <th>smoking</th>\n",
       "      <td>0.027187</td>\n",
       "      <td>0.804359</td>\n",
       "      <td>0.626923</td>\n",
       "      <td>0.725944</td>\n",
       "      <td>0.672810</td>\n",
       "    </tr>\n",
       "    <tr>\n",
       "      <th>creatinine_phosphokinase</th>\n",
       "      <td>0.024899</td>\n",
       "      <td>0.804359</td>\n",
       "      <td>0.656410</td>\n",
       "      <td>0.725833</td>\n",
       "      <td>0.689378</td>\n",
       "    </tr>\n",
       "    <tr>\n",
       "      <th>age</th>\n",
       "      <td>0.024535</td>\n",
       "      <td>0.799359</td>\n",
       "      <td>0.641026</td>\n",
       "      <td>0.720000</td>\n",
       "      <td>0.678222</td>\n",
       "    </tr>\n",
       "    <tr>\n",
       "      <th>anaemia</th>\n",
       "      <td>0.005826</td>\n",
       "      <td>0.784359</td>\n",
       "      <td>0.594872</td>\n",
       "      <td>0.704921</td>\n",
       "      <td>0.645237</td>\n",
       "    </tr>\n",
       "    <tr>\n",
       "      <th>diabetes</th>\n",
       "      <td>0.000000</td>\n",
       "      <td>0.784359</td>\n",
       "      <td>0.594872</td>\n",
       "      <td>0.708892</td>\n",
       "      <td>0.646896</td>\n",
       "    </tr>\n",
       "    <tr>\n",
       "      <th>platelets</th>\n",
       "      <td>0.000000</td>\n",
       "      <td>0.789359</td>\n",
       "      <td>0.610256</td>\n",
       "      <td>0.714124</td>\n",
       "      <td>0.658117</td>\n",
       "    </tr>\n",
       "    <tr>\n",
       "      <th>serum_sodium</th>\n",
       "      <td>0.000000</td>\n",
       "      <td>0.784359</td>\n",
       "      <td>0.594872</td>\n",
       "      <td>0.708892</td>\n",
       "      <td>0.646896</td>\n",
       "    </tr>\n",
       "    <tr>\n",
       "      <th>sex</th>\n",
       "      <td>0.000000</td>\n",
       "      <td>0.784359</td>\n",
       "      <td>0.594872</td>\n",
       "      <td>0.708892</td>\n",
       "      <td>0.646896</td>\n",
       "    </tr>\n",
       "  </tbody>\n",
       "</table>\n",
       "</div>"
      ],
      "text/plain": [
       "                            I-Gain  Accuracy    Recall  Precision  F1-Score\n",
       "time                      0.222937  0.804487  0.534615   0.814524  0.645533\n",
       "serum_creatinine          0.115425  0.784615  0.582051   0.699675  0.635466\n",
       "ejection_fraction         0.099040  0.814615  0.658974   0.734895  0.694867\n",
       "high_blood_pressure       0.029812  0.799359  0.641026   0.720278  0.678345\n",
       "smoking                   0.027187  0.804359  0.626923   0.725944  0.672810\n",
       "creatinine_phosphokinase  0.024899  0.804359  0.656410   0.725833  0.689378\n",
       "age                       0.024535  0.799359  0.641026   0.720000  0.678222\n",
       "anaemia                   0.005826  0.784359  0.594872   0.704921  0.645237\n",
       "diabetes                  0.000000  0.784359  0.594872   0.708892  0.646896\n",
       "platelets                 0.000000  0.789359  0.610256   0.714124  0.658117\n",
       "serum_sodium              0.000000  0.784359  0.594872   0.708892  0.646896\n",
       "sex                       0.000000  0.784359  0.594872   0.708892  0.646896"
      ]
     },
     "execution_count": 30,
     "metadata": {},
     "output_type": "execute_result"
    }
   ],
   "source": [
    "df_xval1"
   ]
  },
  {
   "cell_type": "markdown",
   "metadata": {},
   "source": [
    "Let's look at the various plots\n",
    "\n",
    "The line graph represents the scores (Accuracy/Precision/Recall/F1) when different features are tried out when it's ranked in the decreasing order of IG gain"
   ]
  },
  {
   "cell_type": "code",
   "execution_count": 31,
   "metadata": {},
   "outputs": [
    {
     "data": {
      "image/png": "[encoded data removed]",
      "text/plain": [
       "<Figure size 432x288 with 2 Axes>"
      ]
     },
     "metadata": {
      "needs_background": "light"
     },
     "output_type": "display_data"
    },
    {
     "data": {
      "image/png": "[encoded data removed]",
      "text/plain": [
       "<Figure size 432x288 with 2 Axes>"
      ]
     },
     "metadata": {
      "needs_background": "light"
     },
     "output_type": "display_data"
    },
    {
     "data": {
      "image/png": "[encoded data removed]",
      "text/plain": [
       "<Figure size 432x288 with 2 Axes>"
      ]
     },
     "metadata": {
      "needs_background": "light"
     },
     "output_type": "display_data"
    },
    {
     "data": {
      "image/png": "[encoded data removed]",
      "text/plain": [
       "<Figure size 432x288 with 2 Axes>"
      ]
     },
     "metadata": {
      "needs_background": "light"
     },
     "output_type": "display_data"
    },
    {
     "data": {
      "text/plain": [
       "(None, None, None, None)"
      ]
     },
     "execution_count": 31,
     "metadata": {},
     "output_type": "execute_result"
    }
   ],
   "source": [
    "# \n",
    "plot_feature_metrics(df_xval1,\"Accuracy\"), plot_feature_metrics(df_xval1,\"Recall\"), plot_feature_metrics(df_xval1,\"Precision\"), plot_feature_metrics(df_xval1,\"F1-Score\")"
   ]
  },
  {
   "cell_type": "markdown",
   "metadata": {},
   "source": [
    "From the above graphs we can interpret that the F1-score, accuracy and recall is at the feature \"ejection_fraction\" (First 3 features ranked in the reverse IG gain order)\n",
    "\n",
    "Disclaimer - At different runs this might produce different results because of the way the function K-best and mutual_info_classif() works when data is provided in different splits in xval. In my particular run, the first 3 features produced the best results.\n",
    "\n",
    "The results produced are not stable and it keeps fluctuating with different runs. In my testing so far it has varied from fetures 4 to 8"
   ]
  },
  {
   "cell_type": "code",
   "execution_count": 33,
   "metadata": {},
   "outputs": [
    {
     "data": {
      "text/plain": [
       "2"
      ]
     },
     "execution_count": 33,
     "metadata": {},
     "output_type": "execute_result"
    }
   ],
   "source": [
    "## To find the best features when ranked by IG gain\n",
    "maxidx = df_xval1['F1-Score'].idxmax()\n",
    "index_list = df_xval1.index == maxidx\n",
    "index_of_true = np.where(index_list)[0][0]\n",
    "index_of_true"
   ]
  },
  {
   "cell_type": "markdown",
   "metadata": {},
   "source": [
    "index_of_true+1 contains the value of optimal k from our analysis.\n",
    "\n",
    "This is a dynamic calculation because the value changes with every function"
   ]
  },
  {
   "cell_type": "markdown",
   "metadata": {},
   "source": [
    "In the above cells, we tested our feature selection algorithm using Xval on the train set. Let us see if this parameter holds good in the test set when tested with the same k in holdout testing"
   ]
  },
  {
   "cell_type": "code",
   "execution_count": 34,
   "metadata": {},
   "outputs": [
    {
     "data": {
      "text/plain": [
       "(0.85, 0.6875, 0.8148148148148148)"
      ]
     },
     "execution_count": 34,
     "metadata": {},
     "output_type": "execute_result"
    }
   ],
   "source": [
    "kk = index_of_true+1\n",
    "train_kbest = SelectKBest(mutual_info_classif, score_func  ='mutual_info_classif', k = kk).fit(train_X, np.ravel(train_y))\n",
    "new_train_X = train_kbest.transform(train_X)\n",
    "new_test_X = train_kbest.transform(test_X)\n",
    "gbc.fit(new_train_X, np.ravel(train_y))\n",
    "pred_y = gbc.predict(new_test_X)\n",
    "accuracy_score(test_y, pred_y), recall_score(test_y, pred_y), precision_score(test_y, pred_y)"
   ]
  },
  {
   "cell_type": "code",
   "execution_count": 36,
   "metadata": {},
   "outputs": [],
   "source": [
    "df_holdout = calculate_ig_gain(train_X,train_y)\n",
    "df_holdout1 = kbest_select(df_holdout,train_X,train_y, \"holdout\", test_X, test_y)"
   ]
  },
  {
   "cell_type": "markdown",
   "metadata": {},
   "source": [
    "The dataframe df_holdout contains the calculated ig gain values on the train set\n",
    "\n",
    "The dataframe df_holdout1 contains the scores at different points of K in the K-best algorithm. The scores that we will consider are accuracy and F1-score because F1 contains both precision and recall in it.\n",
    "But in a medical scenario it makes more sense to consider recall as we want to eliminate false negatives"
   ]
  },
  {
   "cell_type": "code",
   "execution_count": 38,
   "metadata": {},
   "outputs": [
    {
     "data": {
      "text/html": [
       "<div>\n",
       "<style scoped>\n",
       "    .dataframe tbody tr th:only-of-type {\n",
       "        vertical-align: middle;\n",
       "    }\n",
       "\n",
       "    .dataframe tbody tr th {\n",
       "        vertical-align: top;\n",
       "    }\n",
       "\n",
       "    .dataframe thead th {\n",
       "        text-align: right;\n",
       "    }\n",
       "</style>\n",
       "<table border=\"1\" class=\"dataframe\">\n",
       "  <thead>\n",
       "    <tr style=\"text-align: right;\">\n",
       "      <th></th>\n",
       "      <th>I-Gain</th>\n",
       "      <th>Accuracy</th>\n",
       "      <th>Recall</th>\n",
       "      <th>Precision</th>\n",
       "      <th>F1-Score</th>\n",
       "    </tr>\n",
       "  </thead>\n",
       "  <tbody>\n",
       "    <tr>\n",
       "      <th>time</th>\n",
       "      <td>0.219658</td>\n",
       "      <td>0.83</td>\n",
       "      <td>0.65625</td>\n",
       "      <td>0.777778</td>\n",
       "      <td>0.711864</td>\n",
       "    </tr>\n",
       "    <tr>\n",
       "      <th>serum_creatinine</th>\n",
       "      <td>0.067432</td>\n",
       "      <td>0.86</td>\n",
       "      <td>0.75000</td>\n",
       "      <td>0.800000</td>\n",
       "      <td>0.774194</td>\n",
       "    </tr>\n",
       "    <tr>\n",
       "      <th>ejection_fraction</th>\n",
       "      <td>0.056587</td>\n",
       "      <td>0.87</td>\n",
       "      <td>0.78125</td>\n",
       "      <td>0.806452</td>\n",
       "      <td>0.793651</td>\n",
       "    </tr>\n",
       "    <tr>\n",
       "      <th>high_blood_pressure</th>\n",
       "      <td>0.043202</td>\n",
       "      <td>0.87</td>\n",
       "      <td>0.78125</td>\n",
       "      <td>0.806452</td>\n",
       "      <td>0.793651</td>\n",
       "    </tr>\n",
       "    <tr>\n",
       "      <th>smoking</th>\n",
       "      <td>0.024497</td>\n",
       "      <td>0.88</td>\n",
       "      <td>0.78125</td>\n",
       "      <td>0.833333</td>\n",
       "      <td>0.806452</td>\n",
       "    </tr>\n",
       "    <tr>\n",
       "      <th>serum_sodium</th>\n",
       "      <td>0.019853</td>\n",
       "      <td>0.87</td>\n",
       "      <td>0.78125</td>\n",
       "      <td>0.806452</td>\n",
       "      <td>0.793651</td>\n",
       "    </tr>\n",
       "    <tr>\n",
       "      <th>age</th>\n",
       "      <td>0.011547</td>\n",
       "      <td>0.87</td>\n",
       "      <td>0.78125</td>\n",
       "      <td>0.806452</td>\n",
       "      <td>0.793651</td>\n",
       "    </tr>\n",
       "    <tr>\n",
       "      <th>creatinine_phosphokinase</th>\n",
       "      <td>0.001884</td>\n",
       "      <td>0.87</td>\n",
       "      <td>0.78125</td>\n",
       "      <td>0.806452</td>\n",
       "      <td>0.793651</td>\n",
       "    </tr>\n",
       "    <tr>\n",
       "      <th>anaemia</th>\n",
       "      <td>0.001427</td>\n",
       "      <td>0.85</td>\n",
       "      <td>0.75000</td>\n",
       "      <td>0.774194</td>\n",
       "      <td>0.761905</td>\n",
       "    </tr>\n",
       "    <tr>\n",
       "      <th>diabetes</th>\n",
       "      <td>0.000000</td>\n",
       "      <td>0.85</td>\n",
       "      <td>0.75000</td>\n",
       "      <td>0.774194</td>\n",
       "      <td>0.761905</td>\n",
       "    </tr>\n",
       "    <tr>\n",
       "      <th>platelets</th>\n",
       "      <td>0.000000</td>\n",
       "      <td>0.85</td>\n",
       "      <td>0.75000</td>\n",
       "      <td>0.774194</td>\n",
       "      <td>0.761905</td>\n",
       "    </tr>\n",
       "    <tr>\n",
       "      <th>sex</th>\n",
       "      <td>0.000000</td>\n",
       "      <td>0.85</td>\n",
       "      <td>0.75000</td>\n",
       "      <td>0.774194</td>\n",
       "      <td>0.761905</td>\n",
       "    </tr>\n",
       "  </tbody>\n",
       "</table>\n",
       "</div>"
      ],
      "text/plain": [
       "                            I-Gain  Accuracy   Recall  Precision  F1-Score\n",
       "time                      0.219658      0.83  0.65625   0.777778  0.711864\n",
       "serum_creatinine          0.067432      0.86  0.75000   0.800000  0.774194\n",
       "ejection_fraction         0.056587      0.87  0.78125   0.806452  0.793651\n",
       "high_blood_pressure       0.043202      0.87  0.78125   0.806452  0.793651\n",
       "smoking                   0.024497      0.88  0.78125   0.833333  0.806452\n",
       "serum_sodium              0.019853      0.87  0.78125   0.806452  0.793651\n",
       "age                       0.011547      0.87  0.78125   0.806452  0.793651\n",
       "creatinine_phosphokinase  0.001884      0.87  0.78125   0.806452  0.793651\n",
       "anaemia                   0.001427      0.85  0.75000   0.774194  0.761905\n",
       "diabetes                  0.000000      0.85  0.75000   0.774194  0.761905\n",
       "platelets                 0.000000      0.85  0.75000   0.774194  0.761905\n",
       "sex                       0.000000      0.85  0.75000   0.774194  0.761905"
      ]
     },
     "execution_count": 38,
     "metadata": {},
     "output_type": "execute_result"
    }
   ],
   "source": [
    "df_holdout1"
   ]
  },
  {
   "cell_type": "markdown",
   "metadata": {},
   "source": [
    "K was 8 in the previous case when we used cross validation but here we can see that at K=8(anaemia) , the accuracy and f1 scores aren't at maximum. let's confirm this visually with a plot"
   ]
  },
  {
   "cell_type": "markdown",
   "metadata": {},
   "source": [
    "Let's visualise the scores using the previously defined functions"
   ]
  },
  {
   "cell_type": "code",
   "execution_count": 40,
   "metadata": {},
   "outputs": [
    {
     "data": {
      "image/png": "[encoded data removed]",
      "text/plain": [
       "<Figure size 432x288 with 2 Axes>"
      ]
     },
     "metadata": {
      "needs_background": "light"
     },
     "output_type": "display_data"
    },
    {
     "data": {
      "image/png": "[encoded data removed]",
      "text/plain": [
       "<Figure size 432x288 with 2 Axes>"
      ]
     },
     "metadata": {
      "needs_background": "light"
     },
     "output_type": "display_data"
    },
    {
     "data": {
      "text/plain": [
       "(None, None)"
      ]
     },
     "execution_count": 40,
     "metadata": {},
     "output_type": "execute_result"
    }
   ],
   "source": [
    "plot_feature_metrics(df_holdout1,\"Accuracy\"), plot_feature_metrics(df_holdout1,\"F1-Score\")"
   ]
  },
  {
   "cell_type": "markdown",
   "metadata": {},
   "source": [
    "According to the plots of scores in holdout testing, k should be 6 and not 3. \n",
    "\n",
    "Accuracy is at the maximum when features till \"High_blood_pressure\" are considered\n",
    "\n",
    "The test data was not used for classifier training or feature selection. We are only testing and comparing with the features we got from the xval results and these aren't the best performing features in holdout testing\n"
   ]
  },
  {
   "cell_type": "markdown",
   "metadata": {},
   "source": [
    "One reason for this could be the difference in testing data between xval and holdout testing. Normally, the results of xval are considered quite stable when compared to testing data because different datapoints are tested in different folds in xval"
   ]
  },
  {
   "cell_type": "markdown",
   "metadata": {},
   "source": [
    "Let's run the same cells again to check if the results are stable and consistent.\n",
    "\n",
    "Using the same xval code in the below cells to check stability and consistency"
   ]
  },
  {
   "cell_type": "code",
   "execution_count": 43,
   "metadata": {},
   "outputs": [],
   "source": [
    "df_xval_check_stability = calculate_ig_gain(train_X,train_y)\n",
    "df_xval_check_stability1 = kbest_select(df_xval_check_stability,train_X,train_y, \"xval\", test_X, test_y)"
   ]
  },
  {
   "cell_type": "code",
   "execution_count": 48,
   "metadata": {},
   "outputs": [],
   "source": [
    "## Plot of the initial XVAL"
   ]
  },
  {
   "cell_type": "code",
   "execution_count": 49,
   "metadata": {},
   "outputs": [
    {
     "data": {
      "image/png": "[encoded data removed]",
      "text/plain": [
       "<Figure size 432x288 with 2 Axes>"
      ]
     },
     "metadata": {
      "needs_background": "light"
     },
     "output_type": "display_data"
    },
    {
     "data": {
      "image/png": "[encoded data removed]",
      "text/plain": [
       "<Figure size 432x288 with 2 Axes>"
      ]
     },
     "metadata": {
      "needs_background": "light"
     },
     "output_type": "display_data"
    },
    {
     "data": {
      "text/plain": [
       "(None, None)"
      ]
     },
     "execution_count": 49,
     "metadata": {},
     "output_type": "execute_result"
    }
   ],
   "source": [
    "plot_feature_metrics(df_xval1,\"Accuracy\"), plot_feature_metrics(df_xval1,\"F1-Score\")"
   ]
  },
  {
   "cell_type": "markdown",
   "metadata": {},
   "source": [
    "Plot of the current xval to check stability"
   ]
  },
  {
   "cell_type": "code",
   "execution_count": 51,
   "metadata": {},
   "outputs": [
    {
     "data": {
      "image/png": "[encoded data removed]",
      "text/plain": [
       "<Figure size 432x288 with 2 Axes>"
      ]
     },
     "metadata": {
      "needs_background": "light"
     },
     "output_type": "display_data"
    },
    {
     "data": {
      "image/png": "[encoded data removed]",
      "text/plain": [
       "<Figure size 432x288 with 2 Axes>"
      ]
     },
     "metadata": {
      "needs_background": "light"
     },
     "output_type": "display_data"
    },
    {
     "data": {
      "text/plain": [
       "(None, None)"
      ]
     },
     "execution_count": 51,
     "metadata": {},
     "output_type": "execute_result"
    }
   ],
   "source": [
    "plot_feature_metrics(df_xval_check_stability1,\"Accuracy\"), plot_feature_metrics(df_xval_check_stability1,\"F1-Score\")"
   ]
  },
  {
   "cell_type": "markdown",
   "metadata": {},
   "source": [
    "df_xval1 - Dataframe from our initial xval run to select k best features\n",
    "\n",
    "df_xval_check_stability1 - Dataframe currently when calling the same function to check stability of the method used"
   ]
  },
  {
   "cell_type": "code",
   "execution_count": 52,
   "metadata": {},
   "outputs": [
    {
     "data": {
      "text/html": [
       "<div>\n",
       "<style scoped>\n",
       "    .dataframe tbody tr th:only-of-type {\n",
       "        vertical-align: middle;\n",
       "    }\n",
       "\n",
       "    .dataframe tbody tr th {\n",
       "        vertical-align: top;\n",
       "    }\n",
       "\n",
       "    .dataframe thead th {\n",
       "        text-align: right;\n",
       "    }\n",
       "</style>\n",
       "<table border=\"1\" class=\"dataframe\">\n",
       "  <thead>\n",
       "    <tr style=\"text-align: right;\">\n",
       "      <th></th>\n",
       "      <th>I-Gain</th>\n",
       "      <th>Accuracy</th>\n",
       "      <th>Recall</th>\n",
       "      <th>Precision</th>\n",
       "      <th>F1-Score</th>\n",
       "    </tr>\n",
       "  </thead>\n",
       "  <tbody>\n",
       "    <tr>\n",
       "      <th>time</th>\n",
       "      <td>0.222937</td>\n",
       "      <td>0.804487</td>\n",
       "      <td>0.534615</td>\n",
       "      <td>0.814524</td>\n",
       "      <td>0.645533</td>\n",
       "    </tr>\n",
       "    <tr>\n",
       "      <th>serum_creatinine</th>\n",
       "      <td>0.115425</td>\n",
       "      <td>0.784615</td>\n",
       "      <td>0.582051</td>\n",
       "      <td>0.699675</td>\n",
       "      <td>0.635466</td>\n",
       "    </tr>\n",
       "    <tr>\n",
       "      <th>ejection_fraction</th>\n",
       "      <td>0.099040</td>\n",
       "      <td>0.814615</td>\n",
       "      <td>0.658974</td>\n",
       "      <td>0.734895</td>\n",
       "      <td>0.694867</td>\n",
       "    </tr>\n",
       "    <tr>\n",
       "      <th>high_blood_pressure</th>\n",
       "      <td>0.029812</td>\n",
       "      <td>0.799359</td>\n",
       "      <td>0.641026</td>\n",
       "      <td>0.720278</td>\n",
       "      <td>0.678345</td>\n",
       "    </tr>\n",
       "    <tr>\n",
       "      <th>smoking</th>\n",
       "      <td>0.027187</td>\n",
       "      <td>0.804359</td>\n",
       "      <td>0.626923</td>\n",
       "      <td>0.725944</td>\n",
       "      <td>0.672810</td>\n",
       "    </tr>\n",
       "    <tr>\n",
       "      <th>creatinine_phosphokinase</th>\n",
       "      <td>0.024899</td>\n",
       "      <td>0.804359</td>\n",
       "      <td>0.656410</td>\n",
       "      <td>0.725833</td>\n",
       "      <td>0.689378</td>\n",
       "    </tr>\n",
       "    <tr>\n",
       "      <th>age</th>\n",
       "      <td>0.024535</td>\n",
       "      <td>0.799359</td>\n",
       "      <td>0.641026</td>\n",
       "      <td>0.720000</td>\n",
       "      <td>0.678222</td>\n",
       "    </tr>\n",
       "    <tr>\n",
       "      <th>anaemia</th>\n",
       "      <td>0.005826</td>\n",
       "      <td>0.784359</td>\n",
       "      <td>0.594872</td>\n",
       "      <td>0.704921</td>\n",
       "      <td>0.645237</td>\n",
       "    </tr>\n",
       "    <tr>\n",
       "      <th>diabetes</th>\n",
       "      <td>0.000000</td>\n",
       "      <td>0.784359</td>\n",
       "      <td>0.594872</td>\n",
       "      <td>0.708892</td>\n",
       "      <td>0.646896</td>\n",
       "    </tr>\n",
       "    <tr>\n",
       "      <th>platelets</th>\n",
       "      <td>0.000000</td>\n",
       "      <td>0.789359</td>\n",
       "      <td>0.610256</td>\n",
       "      <td>0.714124</td>\n",
       "      <td>0.658117</td>\n",
       "    </tr>\n",
       "    <tr>\n",
       "      <th>serum_sodium</th>\n",
       "      <td>0.000000</td>\n",
       "      <td>0.784359</td>\n",
       "      <td>0.594872</td>\n",
       "      <td>0.708892</td>\n",
       "      <td>0.646896</td>\n",
       "    </tr>\n",
       "    <tr>\n",
       "      <th>sex</th>\n",
       "      <td>0.000000</td>\n",
       "      <td>0.784359</td>\n",
       "      <td>0.594872</td>\n",
       "      <td>0.708892</td>\n",
       "      <td>0.646896</td>\n",
       "    </tr>\n",
       "  </tbody>\n",
       "</table>\n",
       "</div>"
      ],
      "text/plain": [
       "                            I-Gain  Accuracy    Recall  Precision  F1-Score\n",
       "time                      0.222937  0.804487  0.534615   0.814524  0.645533\n",
       "serum_creatinine          0.115425  0.784615  0.582051   0.699675  0.635466\n",
       "ejection_fraction         0.099040  0.814615  0.658974   0.734895  0.694867\n",
       "high_blood_pressure       0.029812  0.799359  0.641026   0.720278  0.678345\n",
       "smoking                   0.027187  0.804359  0.626923   0.725944  0.672810\n",
       "creatinine_phosphokinase  0.024899  0.804359  0.656410   0.725833  0.689378\n",
       "age                       0.024535  0.799359  0.641026   0.720000  0.678222\n",
       "anaemia                   0.005826  0.784359  0.594872   0.704921  0.645237\n",
       "diabetes                  0.000000  0.784359  0.594872   0.708892  0.646896\n",
       "platelets                 0.000000  0.789359  0.610256   0.714124  0.658117\n",
       "serum_sodium              0.000000  0.784359  0.594872   0.708892  0.646896\n",
       "sex                       0.000000  0.784359  0.594872   0.708892  0.646896"
      ]
     },
     "execution_count": 52,
     "metadata": {},
     "output_type": "execute_result"
    }
   ],
   "source": [
    "df_xval1"
   ]
  },
  {
   "cell_type": "code",
   "execution_count": 53,
   "metadata": {},
   "outputs": [
    {
     "data": {
      "text/html": [
       "<div>\n",
       "<style scoped>\n",
       "    .dataframe tbody tr th:only-of-type {\n",
       "        vertical-align: middle;\n",
       "    }\n",
       "\n",
       "    .dataframe tbody tr th {\n",
       "        vertical-align: top;\n",
       "    }\n",
       "\n",
       "    .dataframe thead th {\n",
       "        text-align: right;\n",
       "    }\n",
       "</style>\n",
       "<table border=\"1\" class=\"dataframe\">\n",
       "  <thead>\n",
       "    <tr style=\"text-align: right;\">\n",
       "      <th></th>\n",
       "      <th>I-Gain</th>\n",
       "      <th>Accuracy</th>\n",
       "      <th>Recall</th>\n",
       "      <th>Precision</th>\n",
       "      <th>F1-Score</th>\n",
       "    </tr>\n",
       "  </thead>\n",
       "  <tbody>\n",
       "    <tr>\n",
       "      <th>time</th>\n",
       "      <td>0.221893</td>\n",
       "      <td>0.804487</td>\n",
       "      <td>0.534615</td>\n",
       "      <td>0.814524</td>\n",
       "      <td>0.645533</td>\n",
       "    </tr>\n",
       "    <tr>\n",
       "      <th>ejection_fraction</th>\n",
       "      <td>0.098566</td>\n",
       "      <td>0.794487</td>\n",
       "      <td>0.580769</td>\n",
       "      <td>0.736004</td>\n",
       "      <td>0.649236</td>\n",
       "    </tr>\n",
       "    <tr>\n",
       "      <th>serum_creatinine</th>\n",
       "      <td>0.074532</td>\n",
       "      <td>0.783974</td>\n",
       "      <td>0.606410</td>\n",
       "      <td>0.705556</td>\n",
       "      <td>0.652237</td>\n",
       "    </tr>\n",
       "    <tr>\n",
       "      <th>age</th>\n",
       "      <td>0.055980</td>\n",
       "      <td>0.799359</td>\n",
       "      <td>0.641026</td>\n",
       "      <td>0.720278</td>\n",
       "      <td>0.678345</td>\n",
       "    </tr>\n",
       "    <tr>\n",
       "      <th>serum_sodium</th>\n",
       "      <td>0.049802</td>\n",
       "      <td>0.799359</td>\n",
       "      <td>0.641026</td>\n",
       "      <td>0.720278</td>\n",
       "      <td>0.678345</td>\n",
       "    </tr>\n",
       "    <tr>\n",
       "      <th>creatinine_phosphokinase</th>\n",
       "      <td>0.019174</td>\n",
       "      <td>0.794359</td>\n",
       "      <td>0.610256</td>\n",
       "      <td>0.726944</td>\n",
       "      <td>0.663509</td>\n",
       "    </tr>\n",
       "    <tr>\n",
       "      <th>smoking</th>\n",
       "      <td>0.010105</td>\n",
       "      <td>0.789359</td>\n",
       "      <td>0.610256</td>\n",
       "      <td>0.710476</td>\n",
       "      <td>0.656564</td>\n",
       "    </tr>\n",
       "    <tr>\n",
       "      <th>anaemia</th>\n",
       "      <td>0.000000</td>\n",
       "      <td>0.784231</td>\n",
       "      <td>0.610256</td>\n",
       "      <td>0.692698</td>\n",
       "      <td>0.648869</td>\n",
       "    </tr>\n",
       "    <tr>\n",
       "      <th>diabetes</th>\n",
       "      <td>0.000000</td>\n",
       "      <td>0.779231</td>\n",
       "      <td>0.594872</td>\n",
       "      <td>0.687143</td>\n",
       "      <td>0.637687</td>\n",
       "    </tr>\n",
       "    <tr>\n",
       "      <th>high_blood_pressure</th>\n",
       "      <td>0.000000</td>\n",
       "      <td>0.794615</td>\n",
       "      <td>0.628205</td>\n",
       "      <td>0.706739</td>\n",
       "      <td>0.665162</td>\n",
       "    </tr>\n",
       "    <tr>\n",
       "      <th>platelets</th>\n",
       "      <td>0.000000</td>\n",
       "      <td>0.784359</td>\n",
       "      <td>0.594872</td>\n",
       "      <td>0.708892</td>\n",
       "      <td>0.646896</td>\n",
       "    </tr>\n",
       "    <tr>\n",
       "      <th>sex</th>\n",
       "      <td>0.000000</td>\n",
       "      <td>0.784359</td>\n",
       "      <td>0.594872</td>\n",
       "      <td>0.708892</td>\n",
       "      <td>0.646896</td>\n",
       "    </tr>\n",
       "  </tbody>\n",
       "</table>\n",
       "</div>"
      ],
      "text/plain": [
       "                            I-Gain  Accuracy    Recall  Precision  F1-Score\n",
       "time                      0.221893  0.804487  0.534615   0.814524  0.645533\n",
       "ejection_fraction         0.098566  0.794487  0.580769   0.736004  0.649236\n",
       "serum_creatinine          0.074532  0.783974  0.606410   0.705556  0.652237\n",
       "age                       0.055980  0.799359  0.641026   0.720278  0.678345\n",
       "serum_sodium              0.049802  0.799359  0.641026   0.720278  0.678345\n",
       "creatinine_phosphokinase  0.019174  0.794359  0.610256   0.726944  0.663509\n",
       "smoking                   0.010105  0.789359  0.610256   0.710476  0.656564\n",
       "anaemia                   0.000000  0.784231  0.610256   0.692698  0.648869\n",
       "diabetes                  0.000000  0.779231  0.594872   0.687143  0.637687\n",
       "high_blood_pressure       0.000000  0.794615  0.628205   0.706739  0.665162\n",
       "platelets                 0.000000  0.784359  0.594872   0.708892  0.646896\n",
       "sex                       0.000000  0.784359  0.594872   0.708892  0.646896"
      ]
     },
     "execution_count": 53,
     "metadata": {},
     "output_type": "execute_result"
    }
   ],
   "source": [
    "df_xval_check_stability1"
   ]
  },
  {
   "cell_type": "markdown",
   "metadata": {},
   "source": [
    "#### As we can see from the graphs and the dataframes in the above 2 cells, the results are not consistent with respect to any of the scores. A possible reason could be how the data is split into folds differently in each run. But with different data in each fold we expect to see changes in accuracy, thereby affecting the k best algorithm.\n",
    "\n",
    "#### The values of IG gain has also changes in the 2 dataframes leading to different values of feature importances"
   ]
  },
  {
   "cell_type": "code",
   "execution_count": 54,
   "metadata": {},
   "outputs": [],
   "source": [
    "df_check_holdout_stability = calculate_ig_gain(train_X,train_y)\n",
    "df_check_holdout_stability1 = kbest_select(df_check_holdout_stability,train_X,train_y, \"holdout\", test_X, test_y)"
   ]
  },
  {
   "cell_type": "markdown",
   "metadata": {},
   "source": [
    "df_holdout1 - Dataframe from our initial holdout testing with holdout scores\n",
    "\n",
    "df_check_holdout_stability1 - Dataframe currently when calling the same function to check stability of the method used"
   ]
  },
  {
   "cell_type": "code",
   "execution_count": 55,
   "metadata": {},
   "outputs": [
    {
     "data": {
      "text/html": [
       "<div>\n",
       "<style scoped>\n",
       "    .dataframe tbody tr th:only-of-type {\n",
       "        vertical-align: middle;\n",
       "    }\n",
       "\n",
       "    .dataframe tbody tr th {\n",
       "        vertical-align: top;\n",
       "    }\n",
       "\n",
       "    .dataframe thead th {\n",
       "        text-align: right;\n",
       "    }\n",
       "</style>\n",
       "<table border=\"1\" class=\"dataframe\">\n",
       "  <thead>\n",
       "    <tr style=\"text-align: right;\">\n",
       "      <th></th>\n",
       "      <th>I-Gain</th>\n",
       "      <th>Accuracy</th>\n",
       "      <th>Recall</th>\n",
       "      <th>Precision</th>\n",
       "      <th>F1-Score</th>\n",
       "    </tr>\n",
       "  </thead>\n",
       "  <tbody>\n",
       "    <tr>\n",
       "      <th>time</th>\n",
       "      <td>0.223569</td>\n",
       "      <td>0.83</td>\n",
       "      <td>0.65625</td>\n",
       "      <td>0.777778</td>\n",
       "      <td>0.711864</td>\n",
       "    </tr>\n",
       "    <tr>\n",
       "      <th>ejection_fraction</th>\n",
       "      <td>0.117199</td>\n",
       "      <td>0.86</td>\n",
       "      <td>0.75000</td>\n",
       "      <td>0.800000</td>\n",
       "      <td>0.774194</td>\n",
       "    </tr>\n",
       "    <tr>\n",
       "      <th>serum_creatinine</th>\n",
       "      <td>0.085973</td>\n",
       "      <td>0.87</td>\n",
       "      <td>0.78125</td>\n",
       "      <td>0.806452</td>\n",
       "      <td>0.793651</td>\n",
       "    </tr>\n",
       "    <tr>\n",
       "      <th>age</th>\n",
       "      <td>0.054067</td>\n",
       "      <td>0.87</td>\n",
       "      <td>0.78125</td>\n",
       "      <td>0.806452</td>\n",
       "      <td>0.793651</td>\n",
       "    </tr>\n",
       "    <tr>\n",
       "      <th>serum_sodium</th>\n",
       "      <td>0.049551</td>\n",
       "      <td>0.85</td>\n",
       "      <td>0.75000</td>\n",
       "      <td>0.774194</td>\n",
       "      <td>0.761905</td>\n",
       "    </tr>\n",
       "    <tr>\n",
       "      <th>creatinine_phosphokinase</th>\n",
       "      <td>0.020061</td>\n",
       "      <td>0.87</td>\n",
       "      <td>0.78125</td>\n",
       "      <td>0.806452</td>\n",
       "      <td>0.793651</td>\n",
       "    </tr>\n",
       "    <tr>\n",
       "      <th>sex</th>\n",
       "      <td>0.005253</td>\n",
       "      <td>0.88</td>\n",
       "      <td>0.78125</td>\n",
       "      <td>0.833333</td>\n",
       "      <td>0.806452</td>\n",
       "    </tr>\n",
       "    <tr>\n",
       "      <th>anaemia</th>\n",
       "      <td>0.000000</td>\n",
       "      <td>0.88</td>\n",
       "      <td>0.78125</td>\n",
       "      <td>0.833333</td>\n",
       "      <td>0.806452</td>\n",
       "    </tr>\n",
       "    <tr>\n",
       "      <th>diabetes</th>\n",
       "      <td>0.000000</td>\n",
       "      <td>0.85</td>\n",
       "      <td>0.75000</td>\n",
       "      <td>0.774194</td>\n",
       "      <td>0.761905</td>\n",
       "    </tr>\n",
       "    <tr>\n",
       "      <th>high_blood_pressure</th>\n",
       "      <td>0.000000</td>\n",
       "      <td>0.88</td>\n",
       "      <td>0.78125</td>\n",
       "      <td>0.833333</td>\n",
       "      <td>0.806452</td>\n",
       "    </tr>\n",
       "    <tr>\n",
       "      <th>platelets</th>\n",
       "      <td>0.000000</td>\n",
       "      <td>0.85</td>\n",
       "      <td>0.75000</td>\n",
       "      <td>0.774194</td>\n",
       "      <td>0.761905</td>\n",
       "    </tr>\n",
       "    <tr>\n",
       "      <th>smoking</th>\n",
       "      <td>0.000000</td>\n",
       "      <td>0.85</td>\n",
       "      <td>0.75000</td>\n",
       "      <td>0.774194</td>\n",
       "      <td>0.761905</td>\n",
       "    </tr>\n",
       "  </tbody>\n",
       "</table>\n",
       "</div>"
      ],
      "text/plain": [
       "                            I-Gain  Accuracy   Recall  Precision  F1-Score\n",
       "time                      0.223569      0.83  0.65625   0.777778  0.711864\n",
       "ejection_fraction         0.117199      0.86  0.75000   0.800000  0.774194\n",
       "serum_creatinine          0.085973      0.87  0.78125   0.806452  0.793651\n",
       "age                       0.054067      0.87  0.78125   0.806452  0.793651\n",
       "serum_sodium              0.049551      0.85  0.75000   0.774194  0.761905\n",
       "creatinine_phosphokinase  0.020061      0.87  0.78125   0.806452  0.793651\n",
       "sex                       0.005253      0.88  0.78125   0.833333  0.806452\n",
       "anaemia                   0.000000      0.88  0.78125   0.833333  0.806452\n",
       "diabetes                  0.000000      0.85  0.75000   0.774194  0.761905\n",
       "high_blood_pressure       0.000000      0.88  0.78125   0.833333  0.806452\n",
       "platelets                 0.000000      0.85  0.75000   0.774194  0.761905\n",
       "smoking                   0.000000      0.85  0.75000   0.774194  0.761905"
      ]
     },
     "execution_count": 55,
     "metadata": {},
     "output_type": "execute_result"
    }
   ],
   "source": [
    "df_check_holdout_stability1"
   ]
  },
  {
   "cell_type": "code",
   "execution_count": 60,
   "metadata": {},
   "outputs": [
    {
     "data": {
      "text/html": [
       "<div>\n",
       "<style scoped>\n",
       "    .dataframe tbody tr th:only-of-type {\n",
       "        vertical-align: middle;\n",
       "    }\n",
       "\n",
       "    .dataframe tbody tr th {\n",
       "        vertical-align: top;\n",
       "    }\n",
       "\n",
       "    .dataframe thead th {\n",
       "        text-align: right;\n",
       "    }\n",
       "</style>\n",
       "<table border=\"1\" class=\"dataframe\">\n",
       "  <thead>\n",
       "    <tr style=\"text-align: right;\">\n",
       "      <th></th>\n",
       "      <th>I-Gain</th>\n",
       "      <th>Accuracy</th>\n",
       "      <th>Recall</th>\n",
       "      <th>Precision</th>\n",
       "      <th>F1-Score</th>\n",
       "    </tr>\n",
       "  </thead>\n",
       "  <tbody>\n",
       "    <tr>\n",
       "      <th>time</th>\n",
       "      <td>0.219658</td>\n",
       "      <td>0.83</td>\n",
       "      <td>0.65625</td>\n",
       "      <td>0.777778</td>\n",
       "      <td>0.711864</td>\n",
       "    </tr>\n",
       "    <tr>\n",
       "      <th>serum_creatinine</th>\n",
       "      <td>0.067432</td>\n",
       "      <td>0.86</td>\n",
       "      <td>0.75000</td>\n",
       "      <td>0.800000</td>\n",
       "      <td>0.774194</td>\n",
       "    </tr>\n",
       "    <tr>\n",
       "      <th>ejection_fraction</th>\n",
       "      <td>0.056587</td>\n",
       "      <td>0.87</td>\n",
       "      <td>0.78125</td>\n",
       "      <td>0.806452</td>\n",
       "      <td>0.793651</td>\n",
       "    </tr>\n",
       "    <tr>\n",
       "      <th>high_blood_pressure</th>\n",
       "      <td>0.043202</td>\n",
       "      <td>0.87</td>\n",
       "      <td>0.78125</td>\n",
       "      <td>0.806452</td>\n",
       "      <td>0.793651</td>\n",
       "    </tr>\n",
       "    <tr>\n",
       "      <th>smoking</th>\n",
       "      <td>0.024497</td>\n",
       "      <td>0.88</td>\n",
       "      <td>0.78125</td>\n",
       "      <td>0.833333</td>\n",
       "      <td>0.806452</td>\n",
       "    </tr>\n",
       "    <tr>\n",
       "      <th>serum_sodium</th>\n",
       "      <td>0.019853</td>\n",
       "      <td>0.87</td>\n",
       "      <td>0.78125</td>\n",
       "      <td>0.806452</td>\n",
       "      <td>0.793651</td>\n",
       "    </tr>\n",
       "    <tr>\n",
       "      <th>age</th>\n",
       "      <td>0.011547</td>\n",
       "      <td>0.87</td>\n",
       "      <td>0.78125</td>\n",
       "      <td>0.806452</td>\n",
       "      <td>0.793651</td>\n",
       "    </tr>\n",
       "    <tr>\n",
       "      <th>creatinine_phosphokinase</th>\n",
       "      <td>0.001884</td>\n",
       "      <td>0.87</td>\n",
       "      <td>0.78125</td>\n",
       "      <td>0.806452</td>\n",
       "      <td>0.793651</td>\n",
       "    </tr>\n",
       "    <tr>\n",
       "      <th>anaemia</th>\n",
       "      <td>0.001427</td>\n",
       "      <td>0.85</td>\n",
       "      <td>0.75000</td>\n",
       "      <td>0.774194</td>\n",
       "      <td>0.761905</td>\n",
       "    </tr>\n",
       "    <tr>\n",
       "      <th>diabetes</th>\n",
       "      <td>0.000000</td>\n",
       "      <td>0.85</td>\n",
       "      <td>0.75000</td>\n",
       "      <td>0.774194</td>\n",
       "      <td>0.761905</td>\n",
       "    </tr>\n",
       "    <tr>\n",
       "      <th>platelets</th>\n",
       "      <td>0.000000</td>\n",
       "      <td>0.85</td>\n",
       "      <td>0.75000</td>\n",
       "      <td>0.774194</td>\n",
       "      <td>0.761905</td>\n",
       "    </tr>\n",
       "    <tr>\n",
       "      <th>sex</th>\n",
       "      <td>0.000000</td>\n",
       "      <td>0.85</td>\n",
       "      <td>0.75000</td>\n",
       "      <td>0.774194</td>\n",
       "      <td>0.761905</td>\n",
       "    </tr>\n",
       "  </tbody>\n",
       "</table>\n",
       "</div>"
      ],
      "text/plain": [
       "                            I-Gain  Accuracy   Recall  Precision  F1-Score\n",
       "time                      0.219658      0.83  0.65625   0.777778  0.711864\n",
       "serum_creatinine          0.067432      0.86  0.75000   0.800000  0.774194\n",
       "ejection_fraction         0.056587      0.87  0.78125   0.806452  0.793651\n",
       "high_blood_pressure       0.043202      0.87  0.78125   0.806452  0.793651\n",
       "smoking                   0.024497      0.88  0.78125   0.833333  0.806452\n",
       "serum_sodium              0.019853      0.87  0.78125   0.806452  0.793651\n",
       "age                       0.011547      0.87  0.78125   0.806452  0.793651\n",
       "creatinine_phosphokinase  0.001884      0.87  0.78125   0.806452  0.793651\n",
       "anaemia                   0.001427      0.85  0.75000   0.774194  0.761905\n",
       "diabetes                  0.000000      0.85  0.75000   0.774194  0.761905\n",
       "platelets                 0.000000      0.85  0.75000   0.774194  0.761905\n",
       "sex                       0.000000      0.85  0.75000   0.774194  0.761905"
      ]
     },
     "execution_count": 60,
     "metadata": {},
     "output_type": "execute_result"
    }
   ],
   "source": [
    "df_holdout1"
   ]
  },
  {
   "cell_type": "markdown",
   "metadata": {},
   "source": [
    "The IG gain values of the different features has varied in holdout testing too, leading to different scores.\n",
    "\n",
    "The results aren't consistent/stable"
   ]
  },
  {
   "cell_type": "code",
   "execution_count": null,
   "metadata": {},
   "outputs": [],
   "source": []
  }
 ],
 "metadata": {
  "kernelspec": {
   "display_name": "Python 3",
   "language": "python",
   "name": "python3"
  },
  "language_info": {
   "codemirror_mode": {
    "name": "ipython",
    "version": 3
   },
   "file_extension": ".py",
   "mimetype": "text/x-python",
   "name": "python",
   "nbconvert_exporter": "python",
   "pygments_lexer": "ipython3",
   "version": "3.8.3"
  }
 },
 "nbformat": 4,
 "nbformat_minor": 4
}
